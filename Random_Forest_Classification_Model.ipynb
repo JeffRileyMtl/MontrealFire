{
  "cells": [
    {
      "cell_type": "markdown",
      "id": "aed98ef6",
      "metadata": {
        "id": "aed98ef6"
      },
      "source": [
        "## Import Data"
      ]
    },
    {
      "cell_type": "code",
      "execution_count": 3,
      "id": "b388078b",
      "metadata": {
        "id": "b388078b"
      },
      "outputs": [],
      "source": [
        "import pandas as pd"
      ]
    },
    {
      "cell_type": "code",
      "execution_count": 4,
      "id": "6c5253ac",
      "metadata": {
        "id": "6c5253ac"
      },
      "outputs": [],
      "source": [
        "#Import Datasets\n",
        "#housing_df = pd.read_csv(r'datasets\\incidences_With_housing_data.csv', encoding='latin-1')\n",
        "#census_df = pd.read_csv(r'datasets\\incidences_With_census_data.csv', encoding='latin-1')\n",
        "#crime_df = pd.read_csv(r'datasets\\crimes_per_grid_per_quarter.csv', encoding = 'latin-1')\n",
        "#incidences_df = pd.read_csv(r'datasets\\incidences_per_grid_per_quarter.csv', encoding = 'latin-1')\n",
        "all_data = pd.read_csv(r'https://raw.githubusercontent.com/JeffRileyMtl/MontrealFire/master/data.csv')"
      ]
    },
    {
      "cell_type": "code",
      "execution_count": null,
      "id": "6518bf31",
      "metadata": {
        "id": "6518bf31"
      },
      "outputs": [],
      "source": [
        "#housing_df.head()"
      ]
    },
    {
      "cell_type": "code",
      "execution_count": null,
      "id": "eeda50bc",
      "metadata": {
        "id": "eeda50bc"
      },
      "outputs": [],
      "source": [
        "#census_df.head()"
      ]
    },
    {
      "cell_type": "code",
      "execution_count": 4,
      "id": "33bde147",
      "metadata": {
        "colab": {
          "base_uri": "https://localhost:8080/",
          "height": 165
        },
        "id": "33bde147",
        "outputId": "724bcec7-96c2-4d0d-df1b-f8eb0f2a6b32"
      },
      "outputs": [
        {
          "ename": "NameError",
          "evalue": "name 'crime_df' is not defined",
          "output_type": "error",
          "traceback": [
            "\u001b[1;31m---------------------------------------------------------------------------\u001b[0m",
            "\u001b[1;31mNameError\u001b[0m                                 Traceback (most recent call last)",
            "\u001b[1;32m<ipython-input-4-2cc2ed6ec2a1>\u001b[0m in \u001b[0;36m<module>\u001b[1;34m\u001b[0m\n\u001b[1;32m----> 1\u001b[1;33m \u001b[0mcrime_df\u001b[0m\u001b[1;33m.\u001b[0m\u001b[0mhead\u001b[0m\u001b[1;33m(\u001b[0m\u001b[1;33m)\u001b[0m\u001b[1;33m\u001b[0m\u001b[1;33m\u001b[0m\u001b[0m\n\u001b[0m",
            "\u001b[1;31mNameError\u001b[0m: name 'crime_df' is not defined"
          ]
        }
      ],
      "source": [
        "crime_df.head()"
      ]
    },
    {
      "cell_type": "code",
      "execution_count": null,
      "id": "1734ba5f",
      "metadata": {
        "colab": {
          "base_uri": "https://localhost:8080/",
          "height": 165
        },
        "id": "1734ba5f",
        "outputId": "6691b131-3184-4d6a-be6b-f85822e935ff"
      },
      "outputs": [
        {
          "ename": "NameError",
          "evalue": "ignored",
          "output_type": "error",
          "traceback": [
            "\u001b[0;31m---------------------------------------------------------------------------\u001b[0m",
            "\u001b[0;31mNameError\u001b[0m                                 Traceback (most recent call last)",
            "\u001b[0;32m<ipython-input-4-a3e9afca8f91>\u001b[0m in \u001b[0;36m<module>\u001b[0;34m()\u001b[0m\n\u001b[0;32m----> 1\u001b[0;31m \u001b[0mincidences_df\u001b[0m\u001b[0;34m.\u001b[0m\u001b[0mhead\u001b[0m\u001b[0;34m(\u001b[0m\u001b[0;34m)\u001b[0m\u001b[0;34m\u001b[0m\u001b[0;34m\u001b[0m\u001b[0m\n\u001b[0m",
            "\u001b[0;31mNameError\u001b[0m: name 'incidences_df' is not defined"
          ]
        }
      ],
      "source": [
        "incidences_df.head()"
      ]
    },
    {
      "cell_type": "code",
      "execution_count": 5,
      "id": "58353292",
      "metadata": {
        "colab": {
          "base_uri": "https://localhost:8080/",
          "height": 165
        },
        "id": "58353292",
        "outputId": "90d9154c-c941-443e-ee98-48ead8a6810b"
      },
      "outputs": [
        {
          "ename": "NameError",
          "evalue": "name 'incidences_df' is not defined",
          "output_type": "error",
          "traceback": [
            "\u001b[1;31m---------------------------------------------------------------------------\u001b[0m",
            "\u001b[1;31mNameError\u001b[0m                                 Traceback (most recent call last)",
            "\u001b[1;32m<ipython-input-5-1900abc39b94>\u001b[0m in \u001b[0;36m<module>\u001b[1;34m\u001b[0m\n\u001b[1;32m----> 1\u001b[1;33m \u001b[0mmy_df\u001b[0m \u001b[1;33m=\u001b[0m \u001b[0mpd\u001b[0m\u001b[1;33m.\u001b[0m\u001b[0mmerge\u001b[0m\u001b[1;33m(\u001b[0m\u001b[0mincidences_df\u001b[0m\u001b[1;33m,\u001b[0m \u001b[0mcrime_df\u001b[0m\u001b[1;33m,\u001b[0m \u001b[0mhow\u001b[0m \u001b[1;33m=\u001b[0m \u001b[1;34m'left'\u001b[0m\u001b[1;33m,\u001b[0m \u001b[0mleft_on\u001b[0m \u001b[1;33m=\u001b[0m \u001b[1;33m[\u001b[0m\u001b[1;34m'Key'\u001b[0m\u001b[1;33m,\u001b[0m \u001b[1;34m'year'\u001b[0m\u001b[1;33m,\u001b[0m \u001b[1;34m'Quarter'\u001b[0m\u001b[1;33m]\u001b[0m\u001b[1;33m,\u001b[0m \u001b[0mright_on\u001b[0m\u001b[1;33m=\u001b[0m \u001b[1;33m[\u001b[0m\u001b[1;34m'Key'\u001b[0m\u001b[1;33m,\u001b[0m \u001b[1;34m'year'\u001b[0m\u001b[1;33m,\u001b[0m \u001b[1;34m'Quarter'\u001b[0m\u001b[1;33m]\u001b[0m\u001b[1;33m)\u001b[0m\u001b[1;33m\u001b[0m\u001b[1;33m\u001b[0m\u001b[0m\n\u001b[0m",
            "\u001b[1;31mNameError\u001b[0m: name 'incidences_df' is not defined"
          ]
        }
      ],
      "source": [
        "my_df = pd.merge(incidences_df, crime_df, how = 'left', left_on = ['Key', 'year', 'Quarter'], right_on= ['Key', 'year', 'Quarter'])"
      ]
    },
    {
      "cell_type": "code",
      "execution_count": 5,
      "id": "69af0470",
      "metadata": {
        "colab": {
          "base_uri": "https://localhost:8080/",
          "height": 525
        },
        "id": "69af0470",
        "outputId": "cc2d51c5-3503-41fd-dd40-ca87de284f9e"
      },
      "outputs": [
        {
          "data": {
            "text/html": [
              "<div>\n",
              "<style scoped>\n",
              "    .dataframe tbody tr th:only-of-type {\n",
              "        vertical-align: middle;\n",
              "    }\n",
              "\n",
              "    .dataframe tbody tr th {\n",
              "        vertical-align: top;\n",
              "    }\n",
              "\n",
              "    .dataframe thead th {\n",
              "        text-align: right;\n",
              "    }\n",
              "</style>\n",
              "<table border=\"1\" class=\"dataframe\">\n",
              "  <thead>\n",
              "    <tr style=\"text-align: right;\">\n",
              "      <th></th>\n",
              "      <th>Unnamed: 0</th>\n",
              "      <th>Key</th>\n",
              "      <th>year</th>\n",
              "      <th>month</th>\n",
              "      <th>Sum_Count</th>\n",
              "      <th>Monthly_Sum</th>\n",
              "      <th>NOM_CAS_AD</th>\n",
              "      <th>NO_CAS_ADM</th>\n",
              "      <th>OBJECTID</th>\n",
              "      <th>AreaSqKm</th>\n",
              "      <th>...</th>\n",
              "      <th>Input_#2_Key</th>\n",
              "      <th>Count</th>\n",
              "      <th>Fire Count per Year</th>\n",
              "      <th>Fire Count 6 years</th>\n",
              "      <th>Avg_Pop__Densi</th>\n",
              "      <th>Avg_Income___T</th>\n",
              "      <th>Avg_Income___2</th>\n",
              "      <th>Avg_Income___3</th>\n",
              "      <th>Avg_Housing___</th>\n",
              "      <th>Avg_Education_</th>\n",
              "    </tr>\n",
              "  </thead>\n",
              "  <tbody>\n",
              "    <tr>\n",
              "      <th>0</th>\n",
              "      <td>0</td>\n",
              "      <td>Caserne 03 Grid0_0</td>\n",
              "      <td>2015</td>\n",
              "      <td>1</td>\n",
              "      <td>13</td>\n",
              "      <td>Monthly_Sum</td>\n",
              "      <td>Caserne 03</td>\n",
              "      <td>3</td>\n",
              "      <td>312</td>\n",
              "      <td>1.325306</td>\n",
              "      <td>...</td>\n",
              "      <td>Caserne 03 Grid0_0</td>\n",
              "      <td>10.0</td>\n",
              "      <td>2.0</td>\n",
              "      <td>10.0</td>\n",
              "      <td>11430.107143</td>\n",
              "      <td>898.214286</td>\n",
              "      <td>100.0</td>\n",
              "      <td>71.55</td>\n",
              "      <td>561.785714</td>\n",
              "      <td>890.714286</td>\n",
              "    </tr>\n",
              "    <tr>\n",
              "      <th>1</th>\n",
              "      <td>1</td>\n",
              "      <td>Caserne 03 Grid0_0</td>\n",
              "      <td>2015</td>\n",
              "      <td>2</td>\n",
              "      <td>8</td>\n",
              "      <td>Monthly_Sum</td>\n",
              "      <td>Caserne 03</td>\n",
              "      <td>3</td>\n",
              "      <td>312</td>\n",
              "      <td>1.325306</td>\n",
              "      <td>...</td>\n",
              "      <td>Caserne 03 Grid0_0</td>\n",
              "      <td>10.0</td>\n",
              "      <td>2.0</td>\n",
              "      <td>10.0</td>\n",
              "      <td>11430.107143</td>\n",
              "      <td>898.214286</td>\n",
              "      <td>100.0</td>\n",
              "      <td>71.55</td>\n",
              "      <td>561.785714</td>\n",
              "      <td>890.714286</td>\n",
              "    </tr>\n",
              "    <tr>\n",
              "      <th>2</th>\n",
              "      <td>2</td>\n",
              "      <td>Caserne 03 Grid0_0</td>\n",
              "      <td>2015</td>\n",
              "      <td>3</td>\n",
              "      <td>11</td>\n",
              "      <td>Monthly_Sum</td>\n",
              "      <td>Caserne 03</td>\n",
              "      <td>3</td>\n",
              "      <td>312</td>\n",
              "      <td>1.325306</td>\n",
              "      <td>...</td>\n",
              "      <td>Caserne 03 Grid0_0</td>\n",
              "      <td>10.0</td>\n",
              "      <td>2.0</td>\n",
              "      <td>10.0</td>\n",
              "      <td>11430.107143</td>\n",
              "      <td>898.214286</td>\n",
              "      <td>100.0</td>\n",
              "      <td>71.55</td>\n",
              "      <td>561.785714</td>\n",
              "      <td>890.714286</td>\n",
              "    </tr>\n",
              "    <tr>\n",
              "      <th>3</th>\n",
              "      <td>3</td>\n",
              "      <td>Caserne 03 Grid0_0</td>\n",
              "      <td>2015</td>\n",
              "      <td>4</td>\n",
              "      <td>21</td>\n",
              "      <td>Monthly_Sum</td>\n",
              "      <td>Caserne 03</td>\n",
              "      <td>3</td>\n",
              "      <td>312</td>\n",
              "      <td>1.325306</td>\n",
              "      <td>...</td>\n",
              "      <td>Caserne 03 Grid0_0</td>\n",
              "      <td>10.0</td>\n",
              "      <td>2.0</td>\n",
              "      <td>10.0</td>\n",
              "      <td>11430.107143</td>\n",
              "      <td>898.214286</td>\n",
              "      <td>100.0</td>\n",
              "      <td>71.55</td>\n",
              "      <td>561.785714</td>\n",
              "      <td>890.714286</td>\n",
              "    </tr>\n",
              "    <tr>\n",
              "      <th>4</th>\n",
              "      <td>4</td>\n",
              "      <td>Caserne 03 Grid0_0</td>\n",
              "      <td>2015</td>\n",
              "      <td>5</td>\n",
              "      <td>10</td>\n",
              "      <td>Monthly_Sum</td>\n",
              "      <td>Caserne 03</td>\n",
              "      <td>3</td>\n",
              "      <td>312</td>\n",
              "      <td>1.325306</td>\n",
              "      <td>...</td>\n",
              "      <td>Caserne 03 Grid0_0</td>\n",
              "      <td>10.0</td>\n",
              "      <td>2.0</td>\n",
              "      <td>10.0</td>\n",
              "      <td>11430.107143</td>\n",
              "      <td>898.214286</td>\n",
              "      <td>100.0</td>\n",
              "      <td>71.55</td>\n",
              "      <td>561.785714</td>\n",
              "      <td>890.714286</td>\n",
              "    </tr>\n",
              "  </tbody>\n",
              "</table>\n",
              "<p>5 rows × 23 columns</p>\n",
              "</div>"
            ],
            "text/plain": [
              "   Unnamed: 0                 Key  year  month  Sum_Count  Monthly_Sum  \\\n",
              "0           0  Caserne 03 Grid0_0  2015      1         13  Monthly_Sum   \n",
              "1           1  Caserne 03 Grid0_0  2015      2          8  Monthly_Sum   \n",
              "2           2  Caserne 03 Grid0_0  2015      3         11  Monthly_Sum   \n",
              "3           3  Caserne 03 Grid0_0  2015      4         21  Monthly_Sum   \n",
              "4           4  Caserne 03 Grid0_0  2015      5         10  Monthly_Sum   \n",
              "\n",
              "   NOM_CAS_AD  NO_CAS_ADM  OBJECTID  AreaSqKm  ...        Input_#2_Key  Count  \\\n",
              "0  Caserne 03           3       312  1.325306  ...  Caserne 03 Grid0_0   10.0   \n",
              "1  Caserne 03           3       312  1.325306  ...  Caserne 03 Grid0_0   10.0   \n",
              "2  Caserne 03           3       312  1.325306  ...  Caserne 03 Grid0_0   10.0   \n",
              "3  Caserne 03           3       312  1.325306  ...  Caserne 03 Grid0_0   10.0   \n",
              "4  Caserne 03           3       312  1.325306  ...  Caserne 03 Grid0_0   10.0   \n",
              "\n",
              "  Fire Count per Year Fire Count 6 years  Avg_Pop__Densi  Avg_Income___T  \\\n",
              "0                 2.0               10.0    11430.107143      898.214286   \n",
              "1                 2.0               10.0    11430.107143      898.214286   \n",
              "2                 2.0               10.0    11430.107143      898.214286   \n",
              "3                 2.0               10.0    11430.107143      898.214286   \n",
              "4                 2.0               10.0    11430.107143      898.214286   \n",
              "\n",
              "   Avg_Income___2  Avg_Income___3  Avg_Housing___  Avg_Education_  \n",
              "0           100.0           71.55      561.785714      890.714286  \n",
              "1           100.0           71.55      561.785714      890.714286  \n",
              "2           100.0           71.55      561.785714      890.714286  \n",
              "3           100.0           71.55      561.785714      890.714286  \n",
              "4           100.0           71.55      561.785714      890.714286  \n",
              "\n",
              "[5 rows x 23 columns]"
            ]
          },
          "execution_count": 5,
          "metadata": {},
          "output_type": "execute_result"
        }
      ],
      "source": [
        "all_data.head()"
      ]
    },
    {
      "cell_type": "code",
      "execution_count": 6,
      "id": "07053b5d",
      "metadata": {
        "colab": {
          "base_uri": "https://localhost:8080/"
        },
        "id": "07053b5d",
        "outputId": "5e99f198-5a09-4601-e3f6-4db2317fd8cc"
      },
      "outputs": [
        {
          "data": {
            "text/plain": [
              "Index(['Unnamed: 0', 'Key', 'year', 'month', 'Sum_Count', 'Monthly_Sum',\n",
              "       'NOM_CAS_AD', 'NO_CAS_ADM', 'OBJECTID', 'AreaSqKm', 'CentroidX',\n",
              "       'CentroidY', 'GridName', 'Input_#2_Key', 'Count', 'Fire Count per Year',\n",
              "       'Fire Count 6 years', 'Avg_Pop__Densi', 'Avg_Income___T',\n",
              "       'Avg_Income___2', 'Avg_Income___3', 'Avg_Housing___', 'Avg_Education_'],\n",
              "      dtype='object')"
            ]
          },
          "execution_count": 6,
          "metadata": {},
          "output_type": "execute_result"
        }
      ],
      "source": [
        "#my_df.columns\n",
        "all_data.columns"
      ]
    },
    {
      "cell_type": "code",
      "execution_count": 6,
      "id": "b8f0d1f2",
      "metadata": {
        "id": "b8f0d1f2"
      },
      "outputs": [],
      "source": [
        "#Clean data\n",
        "target_col_2 = ['Key', 'year', 'month', 'Sum_Count', 'AreaSqKm', 'Count','Avg_Pop__Densi', \n",
        "                'Avg_Income___T', 'Avg_Income___2', 'Avg_Income___3', 'Avg_Housing___', 'Avg_Education_']\n",
        "data = all_data[target_col_2]\n",
        "data = data.dropna()"
      ]
    },
    {
      "cell_type": "code",
      "execution_count": 7,
      "id": "f0c3e362",
      "metadata": {
        "colab": {
          "base_uri": "https://localhost:8080/",
          "height": 206
        },
        "id": "f0c3e362",
        "outputId": "00187bae-6069-4bec-b808-ba9bf61828c0"
      },
      "outputs": [
        {
          "data": {
            "text/html": [
              "<div>\n",
              "<style scoped>\n",
              "    .dataframe tbody tr th:only-of-type {\n",
              "        vertical-align: middle;\n",
              "    }\n",
              "\n",
              "    .dataframe tbody tr th {\n",
              "        vertical-align: top;\n",
              "    }\n",
              "\n",
              "    .dataframe thead th {\n",
              "        text-align: right;\n",
              "    }\n",
              "</style>\n",
              "<table border=\"1\" class=\"dataframe\">\n",
              "  <thead>\n",
              "    <tr style=\"text-align: right;\">\n",
              "      <th></th>\n",
              "      <th>Key</th>\n",
              "      <th>year</th>\n",
              "      <th>month</th>\n",
              "      <th>No_of_fires</th>\n",
              "      <th>AreaSqKm</th>\n",
              "      <th>No_of_Crimes</th>\n",
              "      <th>Avg_Pop__Densi</th>\n",
              "      <th>Avg_Income___T</th>\n",
              "      <th>Avg_Income___2</th>\n",
              "      <th>Avg_Income___3</th>\n",
              "      <th>Avg_Housing___</th>\n",
              "      <th>Avg_Education_</th>\n",
              "    </tr>\n",
              "  </thead>\n",
              "  <tbody>\n",
              "    <tr>\n",
              "      <th>0</th>\n",
              "      <td>Caserne 03 Grid0_0</td>\n",
              "      <td>2015</td>\n",
              "      <td>1</td>\n",
              "      <td>13</td>\n",
              "      <td>1.325306</td>\n",
              "      <td>10.0</td>\n",
              "      <td>11430.107143</td>\n",
              "      <td>898.214286</td>\n",
              "      <td>100.0</td>\n",
              "      <td>71.55</td>\n",
              "      <td>561.785714</td>\n",
              "      <td>890.714286</td>\n",
              "    </tr>\n",
              "    <tr>\n",
              "      <th>1</th>\n",
              "      <td>Caserne 03 Grid0_0</td>\n",
              "      <td>2015</td>\n",
              "      <td>2</td>\n",
              "      <td>8</td>\n",
              "      <td>1.325306</td>\n",
              "      <td>10.0</td>\n",
              "      <td>11430.107143</td>\n",
              "      <td>898.214286</td>\n",
              "      <td>100.0</td>\n",
              "      <td>71.55</td>\n",
              "      <td>561.785714</td>\n",
              "      <td>890.714286</td>\n",
              "    </tr>\n",
              "    <tr>\n",
              "      <th>2</th>\n",
              "      <td>Caserne 03 Grid0_0</td>\n",
              "      <td>2015</td>\n",
              "      <td>3</td>\n",
              "      <td>11</td>\n",
              "      <td>1.325306</td>\n",
              "      <td>10.0</td>\n",
              "      <td>11430.107143</td>\n",
              "      <td>898.214286</td>\n",
              "      <td>100.0</td>\n",
              "      <td>71.55</td>\n",
              "      <td>561.785714</td>\n",
              "      <td>890.714286</td>\n",
              "    </tr>\n",
              "    <tr>\n",
              "      <th>3</th>\n",
              "      <td>Caserne 03 Grid0_0</td>\n",
              "      <td>2015</td>\n",
              "      <td>4</td>\n",
              "      <td>21</td>\n",
              "      <td>1.325306</td>\n",
              "      <td>10.0</td>\n",
              "      <td>11430.107143</td>\n",
              "      <td>898.214286</td>\n",
              "      <td>100.0</td>\n",
              "      <td>71.55</td>\n",
              "      <td>561.785714</td>\n",
              "      <td>890.714286</td>\n",
              "    </tr>\n",
              "    <tr>\n",
              "      <th>4</th>\n",
              "      <td>Caserne 03 Grid0_0</td>\n",
              "      <td>2015</td>\n",
              "      <td>5</td>\n",
              "      <td>10</td>\n",
              "      <td>1.325306</td>\n",
              "      <td>10.0</td>\n",
              "      <td>11430.107143</td>\n",
              "      <td>898.214286</td>\n",
              "      <td>100.0</td>\n",
              "      <td>71.55</td>\n",
              "      <td>561.785714</td>\n",
              "      <td>890.714286</td>\n",
              "    </tr>\n",
              "  </tbody>\n",
              "</table>\n",
              "</div>"
            ],
            "text/plain": [
              "                  Key  year  month  No_of_fires  AreaSqKm  No_of_Crimes  \\\n",
              "0  Caserne 03 Grid0_0  2015      1           13  1.325306          10.0   \n",
              "1  Caserne 03 Grid0_0  2015      2            8  1.325306          10.0   \n",
              "2  Caserne 03 Grid0_0  2015      3           11  1.325306          10.0   \n",
              "3  Caserne 03 Grid0_0  2015      4           21  1.325306          10.0   \n",
              "4  Caserne 03 Grid0_0  2015      5           10  1.325306          10.0   \n",
              "\n",
              "   Avg_Pop__Densi  Avg_Income___T  Avg_Income___2  Avg_Income___3  \\\n",
              "0    11430.107143      898.214286           100.0           71.55   \n",
              "1    11430.107143      898.214286           100.0           71.55   \n",
              "2    11430.107143      898.214286           100.0           71.55   \n",
              "3    11430.107143      898.214286           100.0           71.55   \n",
              "4    11430.107143      898.214286           100.0           71.55   \n",
              "\n",
              "   Avg_Housing___  Avg_Education_  \n",
              "0      561.785714      890.714286  \n",
              "1      561.785714      890.714286  \n",
              "2      561.785714      890.714286  \n",
              "3      561.785714      890.714286  \n",
              "4      561.785714      890.714286  "
            ]
          },
          "execution_count": 7,
          "metadata": {},
          "output_type": "execute_result"
        }
      ],
      "source": [
        "#Rename Columns \n",
        "data = data.rename(columns= {'Count': 'No_of_Crimes', 'Sum_Count':'No_of_fires'})\n",
        "data.head()"
      ]
    },
    {
      "cell_type": "code",
      "execution_count": 10,
      "id": "8292a5f8",
      "metadata": {},
      "outputs": [
        {
          "data": {
            "text/plain": [
              "(55582, 12)"
            ]
          },
          "execution_count": 10,
          "metadata": {},
          "output_type": "execute_result"
        }
      ],
      "source": [
        "data.shape"
      ]
    },
    {
      "cell_type": "code",
      "execution_count": 8,
      "id": "9f073f9d",
      "metadata": {
        "colab": {
          "base_uri": "https://localhost:8080/",
          "height": 380
        },
        "id": "9f073f9d",
        "outputId": "fe299513-9b8f-4297-cd2b-81697d3fdbc3"
      },
      "outputs": [
        {
          "name": "stdout",
          "output_type": "stream",
          "text": [
            "mean_fire: 12.388668993559065\n"
          ]
        },
        {
          "data": {
            "text/html": [
              "<div>\n",
              "<style scoped>\n",
              "    .dataframe tbody tr th:only-of-type {\n",
              "        vertical-align: middle;\n",
              "    }\n",
              "\n",
              "    .dataframe tbody tr th {\n",
              "        vertical-align: top;\n",
              "    }\n",
              "\n",
              "    .dataframe thead th {\n",
              "        text-align: right;\n",
              "    }\n",
              "</style>\n",
              "<table border=\"1\" class=\"dataframe\">\n",
              "  <thead>\n",
              "    <tr style=\"text-align: right;\">\n",
              "      <th></th>\n",
              "      <th>Key</th>\n",
              "      <th>year</th>\n",
              "      <th>month</th>\n",
              "      <th>No_of_fires</th>\n",
              "      <th>AreaSqKm</th>\n",
              "      <th>No_of_Crimes</th>\n",
              "      <th>Avg_Pop__Densi</th>\n",
              "      <th>Avg_Income___T</th>\n",
              "      <th>Avg_Income___2</th>\n",
              "      <th>Avg_Income___3</th>\n",
              "      <th>Avg_Housing___</th>\n",
              "      <th>Avg_Education_</th>\n",
              "      <th>Risk Category</th>\n",
              "    </tr>\n",
              "  </thead>\n",
              "  <tbody>\n",
              "    <tr>\n",
              "      <th>0</th>\n",
              "      <td>Caserne 03 Grid0_0</td>\n",
              "      <td>2015</td>\n",
              "      <td>1</td>\n",
              "      <td>13</td>\n",
              "      <td>1.325306</td>\n",
              "      <td>10.0</td>\n",
              "      <td>11430.107143</td>\n",
              "      <td>898.214286</td>\n",
              "      <td>100.0</td>\n",
              "      <td>71.55</td>\n",
              "      <td>561.785714</td>\n",
              "      <td>890.714286</td>\n",
              "      <td>1</td>\n",
              "    </tr>\n",
              "    <tr>\n",
              "      <th>1</th>\n",
              "      <td>Caserne 03 Grid0_0</td>\n",
              "      <td>2015</td>\n",
              "      <td>2</td>\n",
              "      <td>8</td>\n",
              "      <td>1.325306</td>\n",
              "      <td>10.0</td>\n",
              "      <td>11430.107143</td>\n",
              "      <td>898.214286</td>\n",
              "      <td>100.0</td>\n",
              "      <td>71.55</td>\n",
              "      <td>561.785714</td>\n",
              "      <td>890.714286</td>\n",
              "      <td>0</td>\n",
              "    </tr>\n",
              "    <tr>\n",
              "      <th>2</th>\n",
              "      <td>Caserne 03 Grid0_0</td>\n",
              "      <td>2015</td>\n",
              "      <td>3</td>\n",
              "      <td>11</td>\n",
              "      <td>1.325306</td>\n",
              "      <td>10.0</td>\n",
              "      <td>11430.107143</td>\n",
              "      <td>898.214286</td>\n",
              "      <td>100.0</td>\n",
              "      <td>71.55</td>\n",
              "      <td>561.785714</td>\n",
              "      <td>890.714286</td>\n",
              "      <td>0</td>\n",
              "    </tr>\n",
              "    <tr>\n",
              "      <th>3</th>\n",
              "      <td>Caserne 03 Grid0_0</td>\n",
              "      <td>2015</td>\n",
              "      <td>4</td>\n",
              "      <td>21</td>\n",
              "      <td>1.325306</td>\n",
              "      <td>10.0</td>\n",
              "      <td>11430.107143</td>\n",
              "      <td>898.214286</td>\n",
              "      <td>100.0</td>\n",
              "      <td>71.55</td>\n",
              "      <td>561.785714</td>\n",
              "      <td>890.714286</td>\n",
              "      <td>1</td>\n",
              "    </tr>\n",
              "    <tr>\n",
              "      <th>4</th>\n",
              "      <td>Caserne 03 Grid0_0</td>\n",
              "      <td>2015</td>\n",
              "      <td>5</td>\n",
              "      <td>10</td>\n",
              "      <td>1.325306</td>\n",
              "      <td>10.0</td>\n",
              "      <td>11430.107143</td>\n",
              "      <td>898.214286</td>\n",
              "      <td>100.0</td>\n",
              "      <td>71.55</td>\n",
              "      <td>561.785714</td>\n",
              "      <td>890.714286</td>\n",
              "      <td>0</td>\n",
              "    </tr>\n",
              "    <tr>\n",
              "      <th>5</th>\n",
              "      <td>Caserne 03 Grid0_0</td>\n",
              "      <td>2015</td>\n",
              "      <td>6</td>\n",
              "      <td>20</td>\n",
              "      <td>1.325306</td>\n",
              "      <td>10.0</td>\n",
              "      <td>11430.107143</td>\n",
              "      <td>898.214286</td>\n",
              "      <td>100.0</td>\n",
              "      <td>71.55</td>\n",
              "      <td>561.785714</td>\n",
              "      <td>890.714286</td>\n",
              "      <td>1</td>\n",
              "    </tr>\n",
              "    <tr>\n",
              "      <th>6</th>\n",
              "      <td>Caserne 03 Grid0_0</td>\n",
              "      <td>2015</td>\n",
              "      <td>7</td>\n",
              "      <td>27</td>\n",
              "      <td>1.325306</td>\n",
              "      <td>10.0</td>\n",
              "      <td>11430.107143</td>\n",
              "      <td>898.214286</td>\n",
              "      <td>100.0</td>\n",
              "      <td>71.55</td>\n",
              "      <td>561.785714</td>\n",
              "      <td>890.714286</td>\n",
              "      <td>1</td>\n",
              "    </tr>\n",
              "    <tr>\n",
              "      <th>7</th>\n",
              "      <td>Caserne 03 Grid0_0</td>\n",
              "      <td>2015</td>\n",
              "      <td>8</td>\n",
              "      <td>17</td>\n",
              "      <td>1.325306</td>\n",
              "      <td>10.0</td>\n",
              "      <td>11430.107143</td>\n",
              "      <td>898.214286</td>\n",
              "      <td>100.0</td>\n",
              "      <td>71.55</td>\n",
              "      <td>561.785714</td>\n",
              "      <td>890.714286</td>\n",
              "      <td>1</td>\n",
              "    </tr>\n",
              "    <tr>\n",
              "      <th>8</th>\n",
              "      <td>Caserne 03 Grid0_0</td>\n",
              "      <td>2015</td>\n",
              "      <td>9</td>\n",
              "      <td>14</td>\n",
              "      <td>1.325306</td>\n",
              "      <td>10.0</td>\n",
              "      <td>11430.107143</td>\n",
              "      <td>898.214286</td>\n",
              "      <td>100.0</td>\n",
              "      <td>71.55</td>\n",
              "      <td>561.785714</td>\n",
              "      <td>890.714286</td>\n",
              "      <td>1</td>\n",
              "    </tr>\n",
              "    <tr>\n",
              "      <th>9</th>\n",
              "      <td>Caserne 03 Grid0_0</td>\n",
              "      <td>2015</td>\n",
              "      <td>10</td>\n",
              "      <td>16</td>\n",
              "      <td>1.325306</td>\n",
              "      <td>10.0</td>\n",
              "      <td>11430.107143</td>\n",
              "      <td>898.214286</td>\n",
              "      <td>100.0</td>\n",
              "      <td>71.55</td>\n",
              "      <td>561.785714</td>\n",
              "      <td>890.714286</td>\n",
              "      <td>1</td>\n",
              "    </tr>\n",
              "  </tbody>\n",
              "</table>\n",
              "</div>"
            ],
            "text/plain": [
              "                  Key  year  month  No_of_fires  AreaSqKm  No_of_Crimes  \\\n",
              "0  Caserne 03 Grid0_0  2015      1           13  1.325306          10.0   \n",
              "1  Caserne 03 Grid0_0  2015      2            8  1.325306          10.0   \n",
              "2  Caserne 03 Grid0_0  2015      3           11  1.325306          10.0   \n",
              "3  Caserne 03 Grid0_0  2015      4           21  1.325306          10.0   \n",
              "4  Caserne 03 Grid0_0  2015      5           10  1.325306          10.0   \n",
              "5  Caserne 03 Grid0_0  2015      6           20  1.325306          10.0   \n",
              "6  Caserne 03 Grid0_0  2015      7           27  1.325306          10.0   \n",
              "7  Caserne 03 Grid0_0  2015      8           17  1.325306          10.0   \n",
              "8  Caserne 03 Grid0_0  2015      9           14  1.325306          10.0   \n",
              "9  Caserne 03 Grid0_0  2015     10           16  1.325306          10.0   \n",
              "\n",
              "   Avg_Pop__Densi  Avg_Income___T  Avg_Income___2  Avg_Income___3  \\\n",
              "0    11430.107143      898.214286           100.0           71.55   \n",
              "1    11430.107143      898.214286           100.0           71.55   \n",
              "2    11430.107143      898.214286           100.0           71.55   \n",
              "3    11430.107143      898.214286           100.0           71.55   \n",
              "4    11430.107143      898.214286           100.0           71.55   \n",
              "5    11430.107143      898.214286           100.0           71.55   \n",
              "6    11430.107143      898.214286           100.0           71.55   \n",
              "7    11430.107143      898.214286           100.0           71.55   \n",
              "8    11430.107143      898.214286           100.0           71.55   \n",
              "9    11430.107143      898.214286           100.0           71.55   \n",
              "\n",
              "   Avg_Housing___  Avg_Education_  Risk Category  \n",
              "0      561.785714      890.714286              1  \n",
              "1      561.785714      890.714286              0  \n",
              "2      561.785714      890.714286              0  \n",
              "3      561.785714      890.714286              1  \n",
              "4      561.785714      890.714286              0  \n",
              "5      561.785714      890.714286              1  \n",
              "6      561.785714      890.714286              1  \n",
              "7      561.785714      890.714286              1  \n",
              "8      561.785714      890.714286              1  \n",
              "9      561.785714      890.714286              1  "
            ]
          },
          "execution_count": 8,
          "metadata": {},
          "output_type": "execute_result"
        }
      ],
      "source": [
        "#Create HighRisk/Low Risk Feature\n",
        "\n",
        "mean_fire = data['No_of_fires'].mean()\n",
        "print(\"mean_fire: \"+str(mean_fire))\n",
        "import numpy as np\n",
        "data['Risk Category'] = np.where(data['No_of_fires'] >=mean_fire, 1, 0)\n",
        "data.head(10)"
      ]
    },
    {
      "cell_type": "code",
      "execution_count": 8,
      "id": "f76ff738",
      "metadata": {
        "colab": {
          "base_uri": "https://localhost:8080/",
          "height": 300
        },
        "id": "f76ff738",
        "outputId": "854ac6c9-e91c-474a-8770-a37a31d7d9c4"
      },
      "outputs": [
        {
          "data": {
            "text/html": [
              "\n",
              "  <div id=\"df-b2531b2d-2132-4036-9696-aaead93a9d89\">\n",
              "    <div class=\"colab-df-container\">\n",
              "      <div>\n",
              "<style scoped>\n",
              "    .dataframe tbody tr th:only-of-type {\n",
              "        vertical-align: middle;\n",
              "    }\n",
              "\n",
              "    .dataframe tbody tr th {\n",
              "        vertical-align: top;\n",
              "    }\n",
              "\n",
              "    .dataframe thead th {\n",
              "        text-align: right;\n",
              "    }\n",
              "</style>\n",
              "<table border=\"1\" class=\"dataframe\">\n",
              "  <thead>\n",
              "    <tr style=\"text-align: right;\">\n",
              "      <th></th>\n",
              "      <th>year</th>\n",
              "      <th>month</th>\n",
              "      <th>No_of_fires</th>\n",
              "      <th>AreaSqKm</th>\n",
              "      <th>No_of_Crimes</th>\n",
              "      <th>Avg_Pop__Densi</th>\n",
              "      <th>Avg_Income___T</th>\n",
              "      <th>Avg_Income___2</th>\n",
              "      <th>Avg_Income___3</th>\n",
              "      <th>Avg_Housing___</th>\n",
              "      <th>Avg_Education_</th>\n",
              "      <th>Risk Category</th>\n",
              "    </tr>\n",
              "  </thead>\n",
              "  <tbody>\n",
              "    <tr>\n",
              "      <th>count</th>\n",
              "      <td>55582.000000</td>\n",
              "      <td>55582.000000</td>\n",
              "      <td>55582.000000</td>\n",
              "      <td>55582.000000</td>\n",
              "      <td>55582.000000</td>\n",
              "      <td>55582.000000</td>\n",
              "      <td>55582.000000</td>\n",
              "      <td>55582.0</td>\n",
              "      <td>55582.000000</td>\n",
              "      <td>55582.000000</td>\n",
              "      <td>55582.000000</td>\n",
              "      <td>55582.000000</td>\n",
              "    </tr>\n",
              "    <tr>\n",
              "      <th>mean</th>\n",
              "      <td>2018.240797</td>\n",
              "      <td>6.321075</td>\n",
              "      <td>12.388669</td>\n",
              "      <td>10.038148</td>\n",
              "      <td>14.202476</td>\n",
              "      <td>6763.655314</td>\n",
              "      <td>579.554730</td>\n",
              "      <td>100.0</td>\n",
              "      <td>69.287102</td>\n",
              "      <td>308.819414</td>\n",
              "      <td>579.592307</td>\n",
              "      <td>0.344284</td>\n",
              "    </tr>\n",
              "    <tr>\n",
              "      <th>std</th>\n",
              "      <td>2.172659</td>\n",
              "      <td>3.455844</td>\n",
              "      <td>13.483883</td>\n",
              "      <td>5.856467</td>\n",
              "      <td>15.226825</td>\n",
              "      <td>4627.962664</td>\n",
              "      <td>235.118763</td>\n",
              "      <td>0.0</td>\n",
              "      <td>6.076413</td>\n",
              "      <td>148.698459</td>\n",
              "      <td>236.082475</td>\n",
              "      <td>0.475139</td>\n",
              "    </tr>\n",
              "    <tr>\n",
              "      <th>min</th>\n",
              "      <td>2015.000000</td>\n",
              "      <td>1.000000</td>\n",
              "      <td>1.000000</td>\n",
              "      <td>1.312419</td>\n",
              "      <td>1.000000</td>\n",
              "      <td>33.400000</td>\n",
              "      <td>313.333333</td>\n",
              "      <td>100.0</td>\n",
              "      <td>42.450000</td>\n",
              "      <td>154.000000</td>\n",
              "      <td>301.666667</td>\n",
              "      <td>0.000000</td>\n",
              "    </tr>\n",
              "    <tr>\n",
              "      <th>25%</th>\n",
              "      <td>2016.000000</td>\n",
              "      <td>3.000000</td>\n",
              "      <td>3.000000</td>\n",
              "      <td>5.110053</td>\n",
              "      <td>4.000000</td>\n",
              "      <td>3232.011111</td>\n",
              "      <td>459.444444</td>\n",
              "      <td>100.0</td>\n",
              "      <td>65.250000</td>\n",
              "      <td>234.615385</td>\n",
              "      <td>457.187500</td>\n",
              "      <td>0.000000</td>\n",
              "    </tr>\n",
              "    <tr>\n",
              "      <th>50%</th>\n",
              "      <td>2018.000000</td>\n",
              "      <td>6.000000</td>\n",
              "      <td>7.000000</td>\n",
              "      <td>8.683485</td>\n",
              "      <td>9.000000</td>\n",
              "      <td>6070.266667</td>\n",
              "      <td>516.500000</td>\n",
              "      <td>100.0</td>\n",
              "      <td>69.257143</td>\n",
              "      <td>276.190476</td>\n",
              "      <td>516.500000</td>\n",
              "      <td>0.000000</td>\n",
              "    </tr>\n",
              "    <tr>\n",
              "      <th>75%</th>\n",
              "      <td>2020.000000</td>\n",
              "      <td>9.000000</td>\n",
              "      <td>17.000000</td>\n",
              "      <td>15.064995</td>\n",
              "      <td>19.000000</td>\n",
              "      <td>9415.358333</td>\n",
              "      <td>606.250000</td>\n",
              "      <td>100.0</td>\n",
              "      <td>73.391667</td>\n",
              "      <td>328.000000</td>\n",
              "      <td>601.666667</td>\n",
              "      <td>1.000000</td>\n",
              "    </tr>\n",
              "    <tr>\n",
              "      <th>max</th>\n",
              "      <td>2022.000000</td>\n",
              "      <td>12.000000</td>\n",
              "      <td>128.000000</td>\n",
              "      <td>23.545964</td>\n",
              "      <td>85.000000</td>\n",
              "      <td>32426.444444</td>\n",
              "      <td>3770.000000</td>\n",
              "      <td>100.0</td>\n",
              "      <td>87.500000</td>\n",
              "      <td>2120.000000</td>\n",
              "      <td>3840.000000</td>\n",
              "      <td>1.000000</td>\n",
              "    </tr>\n",
              "  </tbody>\n",
              "</table>\n",
              "</div>\n",
              "      <button class=\"colab-df-convert\" onclick=\"convertToInteractive('df-b2531b2d-2132-4036-9696-aaead93a9d89')\"\n",
              "              title=\"Convert this dataframe to an interactive table.\"\n",
              "              style=\"display:none;\">\n",
              "        \n",
              "  <svg xmlns=\"http://www.w3.org/2000/svg\" height=\"24px\"viewBox=\"0 0 24 24\"\n",
              "       width=\"24px\">\n",
              "    <path d=\"M0 0h24v24H0V0z\" fill=\"none\"/>\n",
              "    <path d=\"M18.56 5.44l.94 2.06.94-2.06 2.06-.94-2.06-.94-.94-2.06-.94 2.06-2.06.94zm-11 1L8.5 8.5l.94-2.06 2.06-.94-2.06-.94L8.5 2.5l-.94 2.06-2.06.94zm10 10l.94 2.06.94-2.06 2.06-.94-2.06-.94-.94-2.06-.94 2.06-2.06.94z\"/><path d=\"M17.41 7.96l-1.37-1.37c-.4-.4-.92-.59-1.43-.59-.52 0-1.04.2-1.43.59L10.3 9.45l-7.72 7.72c-.78.78-.78 2.05 0 2.83L4 21.41c.39.39.9.59 1.41.59.51 0 1.02-.2 1.41-.59l7.78-7.78 2.81-2.81c.8-.78.8-2.07 0-2.86zM5.41 20L4 18.59l7.72-7.72 1.47 1.35L5.41 20z\"/>\n",
              "  </svg>\n",
              "      </button>\n",
              "      \n",
              "  <style>\n",
              "    .colab-df-container {\n",
              "      display:flex;\n",
              "      flex-wrap:wrap;\n",
              "      gap: 12px;\n",
              "    }\n",
              "\n",
              "    .colab-df-convert {\n",
              "      background-color: #E8F0FE;\n",
              "      border: none;\n",
              "      border-radius: 50%;\n",
              "      cursor: pointer;\n",
              "      display: none;\n",
              "      fill: #1967D2;\n",
              "      height: 32px;\n",
              "      padding: 0 0 0 0;\n",
              "      width: 32px;\n",
              "    }\n",
              "\n",
              "    .colab-df-convert:hover {\n",
              "      background-color: #E2EBFA;\n",
              "      box-shadow: 0px 1px 2px rgba(60, 64, 67, 0.3), 0px 1px 3px 1px rgba(60, 64, 67, 0.15);\n",
              "      fill: #174EA6;\n",
              "    }\n",
              "\n",
              "    [theme=dark] .colab-df-convert {\n",
              "      background-color: #3B4455;\n",
              "      fill: #D2E3FC;\n",
              "    }\n",
              "\n",
              "    [theme=dark] .colab-df-convert:hover {\n",
              "      background-color: #434B5C;\n",
              "      box-shadow: 0px 1px 3px 1px rgba(0, 0, 0, 0.15);\n",
              "      filter: drop-shadow(0px 1px 2px rgba(0, 0, 0, 0.3));\n",
              "      fill: #FFFFFF;\n",
              "    }\n",
              "  </style>\n",
              "\n",
              "      <script>\n",
              "        const buttonEl =\n",
              "          document.querySelector('#df-b2531b2d-2132-4036-9696-aaead93a9d89 button.colab-df-convert');\n",
              "        buttonEl.style.display =\n",
              "          google.colab.kernel.accessAllowed ? 'block' : 'none';\n",
              "\n",
              "        async function convertToInteractive(key) {\n",
              "          const element = document.querySelector('#df-b2531b2d-2132-4036-9696-aaead93a9d89');\n",
              "          const dataTable =\n",
              "            await google.colab.kernel.invokeFunction('convertToInteractive',\n",
              "                                                     [key], {});\n",
              "          if (!dataTable) return;\n",
              "\n",
              "          const docLinkHtml = 'Like what you see? Visit the ' +\n",
              "            '<a target=\"_blank\" href=https://colab.research.google.com/notebooks/data_table.ipynb>data table notebook</a>'\n",
              "            + ' to learn more about interactive tables.';\n",
              "          element.innerHTML = '';\n",
              "          dataTable['output_type'] = 'display_data';\n",
              "          await google.colab.output.renderOutput(dataTable, element);\n",
              "          const docLink = document.createElement('div');\n",
              "          docLink.innerHTML = docLinkHtml;\n",
              "          element.appendChild(docLink);\n",
              "        }\n",
              "      </script>\n",
              "    </div>\n",
              "  </div>\n",
              "  "
            ],
            "text/plain": [
              "               year         month   No_of_fires      AreaSqKm  No_of_Crimes  \\\n",
              "count  55582.000000  55582.000000  55582.000000  55582.000000  55582.000000   \n",
              "mean    2018.240797      6.321075     12.388669     10.038148     14.202476   \n",
              "std        2.172659      3.455844     13.483883      5.856467     15.226825   \n",
              "min     2015.000000      1.000000      1.000000      1.312419      1.000000   \n",
              "25%     2016.000000      3.000000      3.000000      5.110053      4.000000   \n",
              "50%     2018.000000      6.000000      7.000000      8.683485      9.000000   \n",
              "75%     2020.000000      9.000000     17.000000     15.064995     19.000000   \n",
              "max     2022.000000     12.000000    128.000000     23.545964     85.000000   \n",
              "\n",
              "       Avg_Pop__Densi  Avg_Income___T  Avg_Income___2  Avg_Income___3  \\\n",
              "count    55582.000000    55582.000000         55582.0    55582.000000   \n",
              "mean      6763.655314      579.554730           100.0       69.287102   \n",
              "std       4627.962664      235.118763             0.0        6.076413   \n",
              "min         33.400000      313.333333           100.0       42.450000   \n",
              "25%       3232.011111      459.444444           100.0       65.250000   \n",
              "50%       6070.266667      516.500000           100.0       69.257143   \n",
              "75%       9415.358333      606.250000           100.0       73.391667   \n",
              "max      32426.444444     3770.000000           100.0       87.500000   \n",
              "\n",
              "       Avg_Housing___  Avg_Education_  Risk Category  \n",
              "count    55582.000000    55582.000000   55582.000000  \n",
              "mean       308.819414      579.592307       0.344284  \n",
              "std        148.698459      236.082475       0.475139  \n",
              "min        154.000000      301.666667       0.000000  \n",
              "25%        234.615385      457.187500       0.000000  \n",
              "50%        276.190476      516.500000       0.000000  \n",
              "75%        328.000000      601.666667       1.000000  \n",
              "max       2120.000000     3840.000000       1.000000  "
            ]
          },
          "execution_count": 8,
          "metadata": {},
          "output_type": "execute_result"
        }
      ],
      "source": [
        "data.describe()"
      ]
    },
    {
      "cell_type": "code",
      "execution_count": null,
      "id": "b8264a2e",
      "metadata": {
        "id": "b8264a2e"
      },
      "outputs": [],
      "source": [
        "#Convert Months into Cyclical Pattern"
      ]
    },
    {
      "cell_type": "code",
      "execution_count": 9,
      "id": "89bbe3d5",
      "metadata": {
        "id": "89bbe3d5"
      },
      "outputs": [],
      "source": [
        "#Get Train data based on years 2015 -2020, test on 2021\n",
        "train = data[(data['year']>=2015) &(data['year']<=2020)]\n",
        "test = data[data['year']==2021]"
      ]
    },
    {
      "cell_type": "code",
      "execution_count": 10,
      "id": "db704a22",
      "metadata": {
        "id": "db704a22"
      },
      "outputs": [],
      "source": [
        "#Split into features and target\n",
        "X_train = train.drop(['Risk Category', 'Key','No_of_fires'], axis =1)\n",
        "X_test = test.drop(['Risk Category', 'Key', 'No_of_fires'], axis =1)\n",
        "y_train = train['Risk Category']\n",
        "y_test = test['Risk Category']"
      ]
    },
    {
      "cell_type": "code",
      "execution_count": 14,
      "id": "54e50695",
      "metadata": {
        "colab": {
          "base_uri": "https://localhost:8080/"
        },
        "id": "54e50695",
        "outputId": "7c112ddc-a63b-4975-b622-3390b7610328"
      },
      "outputs": [
        {
          "name": "stdout",
          "output_type": "stream",
          "text": [
            "(44491, 10)\n",
            "(44491,)\n"
          ]
        }
      ],
      "source": [
        "print(X_train.shape)\n",
        "print(y_train.shape)"
      ]
    },
    {
      "cell_type": "code",
      "execution_count": 15,
      "id": "7ed6f741",
      "metadata": {
        "colab": {
          "base_uri": "https://localhost:8080/"
        },
        "id": "7ed6f741",
        "outputId": "3a703c55-5b90-469b-8126-39951729d5d6"
      },
      "outputs": [
        {
          "data": {
            "text/plain": [
              "(7426, 10)"
            ]
          },
          "execution_count": 15,
          "metadata": {},
          "output_type": "execute_result"
        }
      ],
      "source": [
        "X_test.shape"
      ]
    },
    {
      "cell_type": "code",
      "execution_count": 11,
      "id": "611bb79d",
      "metadata": {
        "id": "611bb79d"
      },
      "outputs": [],
      "source": [
        "#Generate some sample hyper parameters\n",
        "param_grid = {\n",
        "    'max_depth': [80, 90, 100, 110],\n",
        "    'min_samples_leaf': [3, 4, 5],\n",
        "    'min_samples_split': [8, 10, 12],\n",
        "    'n_estimators': [100, 200, 300, 1000]\n",
        "}"
      ]
    },
    {
      "cell_type": "code",
      "execution_count": 12,
      "id": "ad3e635b",
      "metadata": {
        "id": "ad3e635b"
      },
      "outputs": [],
      "source": [
        "from sklearn.metrics import accuracy_score\n",
        "from sklearn.metrics import precision_score\n",
        "from sklearn.metrics import recall_score\n",
        "from sklearn.metrics import f1_score\n",
        "from sklearn.metrics import confusion_matrix\n",
        "\n",
        "def evaluate(model, test_features, test_labels):\n",
        "    predictions = model.predict(test_features)\n",
        "    print(f'Accuracy Score:{accuracy_score(test_labels, predictions)}')\n",
        "    print(f'Precision:{precision_score(test_labels, predictions)}')\n",
        "    print(f'Recall Score:{recall_score(test_labels, predictions)}')\n",
        "    print(f'F1 score:{f1_score(test_labels, predictions)}')\n",
        "    print(f'Confusion Matrix:{confusion_matrix(test_labels, predictions)}')\n",
        "    df = pd.DataFrame([[accuracy_score(test_labels, predictions),\n",
        "                        precision_score(test_labels, predictions),\n",
        "                        recall_score(test_labels, predictions),\n",
        "                        f1_score(test_labels, predictions),\n",
        "                        confusion_matrix(test_labels, predictions)]],\n",
        "                      columns=[\"Accuracy Score\",\"Precision\",\"Recall Score\",\"F1 score\",\"Confusion Matrix\"])\n",
        "    \n",
        "    \n",
        "    return df"
      ]
    },
    {
      "cell_type": "code",
      "execution_count": 13,
      "id": "d448ef88",
      "metadata": {
        "id": "d448ef88"
      },
      "outputs": [],
      "source": [
        "#Create Model - Start of with a random forest classifier\n",
        "from sklearn.ensemble import RandomForestClassifier\n",
        "classifier = RandomForestClassifier(bootstrap = True, random_state = 42)"
      ]
    },
    {
      "cell_type": "code",
      "execution_count": 19,
      "id": "92707a3d",
      "metadata": {
        "id": "92707a3d"
      },
      "outputs": [],
      "source": [
        "#Grid search CV\n",
        "from sklearn.model_selection import GridSearchCV\n",
        "grid_search = GridSearchCV(estimator = classifier, param_grid = param_grid, \n",
        "                          cv = 3, n_jobs = -1, verbose = 2)"
      ]
    },
    {
      "cell_type": "code",
      "execution_count": 14,
      "id": "56936794",
      "metadata": {
        "id": "56936794"
      },
      "outputs": [],
      "source": [
        "#grid_search.fit(X_train, y_train)\n",
        "model = classifier.fit(X_train, y_train)"
      ]
    },
    {
      "cell_type": "code",
      "execution_count": 21,
      "id": "bc46e29e",
      "metadata": {
        "colab": {
          "base_uri": "https://localhost:8080/"
        },
        "id": "bc46e29e",
        "outputId": "7d989de2-7a6a-4d39-cc41-76f976ff2d8e"
      },
      "outputs": [
        {
          "name": "stdout",
          "output_type": "stream",
          "text": [
            "Fitting 3 folds for each of 144 candidates, totalling 432 fits\n"
          ]
        },
        {
          "ename": "KeyboardInterrupt",
          "evalue": "",
          "output_type": "error",
          "traceback": [
            "\u001b[1;31m---------------------------------------------------------------------------\u001b[0m",
            "\u001b[1;31mKeyboardInterrupt\u001b[0m                         Traceback (most recent call last)",
            "\u001b[1;32m<ipython-input-21-7912bbd68fbd>\u001b[0m in \u001b[0;36m<module>\u001b[1;34m\u001b[0m\n\u001b[1;32m----> 1\u001b[1;33m \u001b[0mgrid_search\u001b[0m\u001b[1;33m.\u001b[0m\u001b[0mfit\u001b[0m\u001b[1;33m(\u001b[0m\u001b[0mX_train\u001b[0m\u001b[1;33m,\u001b[0m\u001b[0my_train\u001b[0m\u001b[1;33m)\u001b[0m\u001b[1;33m\u001b[0m\u001b[1;33m\u001b[0m\u001b[0m\n\u001b[0m",
            "\u001b[1;32mc:\\Users\\jeffs\\anaconda3\\lib\\site-packages\\sklearn\\utils\\validation.py\u001b[0m in \u001b[0;36minner_f\u001b[1;34m(*args, **kwargs)\u001b[0m\n\u001b[0;32m     61\u001b[0m             \u001b[0mextra_args\u001b[0m \u001b[1;33m=\u001b[0m \u001b[0mlen\u001b[0m\u001b[1;33m(\u001b[0m\u001b[0margs\u001b[0m\u001b[1;33m)\u001b[0m \u001b[1;33m-\u001b[0m \u001b[0mlen\u001b[0m\u001b[1;33m(\u001b[0m\u001b[0mall_args\u001b[0m\u001b[1;33m)\u001b[0m\u001b[1;33m\u001b[0m\u001b[1;33m\u001b[0m\u001b[0m\n\u001b[0;32m     62\u001b[0m             \u001b[1;32mif\u001b[0m \u001b[0mextra_args\u001b[0m \u001b[1;33m<=\u001b[0m \u001b[1;36m0\u001b[0m\u001b[1;33m:\u001b[0m\u001b[1;33m\u001b[0m\u001b[1;33m\u001b[0m\u001b[0m\n\u001b[1;32m---> 63\u001b[1;33m                 \u001b[1;32mreturn\u001b[0m \u001b[0mf\u001b[0m\u001b[1;33m(\u001b[0m\u001b[1;33m*\u001b[0m\u001b[0margs\u001b[0m\u001b[1;33m,\u001b[0m \u001b[1;33m**\u001b[0m\u001b[0mkwargs\u001b[0m\u001b[1;33m)\u001b[0m\u001b[1;33m\u001b[0m\u001b[1;33m\u001b[0m\u001b[0m\n\u001b[0m\u001b[0;32m     64\u001b[0m \u001b[1;33m\u001b[0m\u001b[0m\n\u001b[0;32m     65\u001b[0m             \u001b[1;31m# extra_args > 0\u001b[0m\u001b[1;33m\u001b[0m\u001b[1;33m\u001b[0m\u001b[1;33m\u001b[0m\u001b[0m\n",
            "\u001b[1;32mc:\\Users\\jeffs\\anaconda3\\lib\\site-packages\\sklearn\\model_selection\\_search.py\u001b[0m in \u001b[0;36mfit\u001b[1;34m(self, X, y, groups, **fit_params)\u001b[0m\n\u001b[0;32m    839\u001b[0m                 \u001b[1;32mreturn\u001b[0m \u001b[0mresults\u001b[0m\u001b[1;33m\u001b[0m\u001b[1;33m\u001b[0m\u001b[0m\n\u001b[0;32m    840\u001b[0m \u001b[1;33m\u001b[0m\u001b[0m\n\u001b[1;32m--> 841\u001b[1;33m             \u001b[0mself\u001b[0m\u001b[1;33m.\u001b[0m\u001b[0m_run_search\u001b[0m\u001b[1;33m(\u001b[0m\u001b[0mevaluate_candidates\u001b[0m\u001b[1;33m)\u001b[0m\u001b[1;33m\u001b[0m\u001b[1;33m\u001b[0m\u001b[0m\n\u001b[0m\u001b[0;32m    842\u001b[0m \u001b[1;33m\u001b[0m\u001b[0m\n\u001b[0;32m    843\u001b[0m             \u001b[1;31m# multimetric is determined here because in the case of a callable\u001b[0m\u001b[1;33m\u001b[0m\u001b[1;33m\u001b[0m\u001b[1;33m\u001b[0m\u001b[0m\n",
            "\u001b[1;32mc:\\Users\\jeffs\\anaconda3\\lib\\site-packages\\sklearn\\model_selection\\_search.py\u001b[0m in \u001b[0;36m_run_search\u001b[1;34m(self, evaluate_candidates)\u001b[0m\n\u001b[0;32m   1286\u001b[0m     \u001b[1;32mdef\u001b[0m \u001b[0m_run_search\u001b[0m\u001b[1;33m(\u001b[0m\u001b[0mself\u001b[0m\u001b[1;33m,\u001b[0m \u001b[0mevaluate_candidates\u001b[0m\u001b[1;33m)\u001b[0m\u001b[1;33m:\u001b[0m\u001b[1;33m\u001b[0m\u001b[1;33m\u001b[0m\u001b[0m\n\u001b[0;32m   1287\u001b[0m         \u001b[1;34m\"\"\"Search all candidates in param_grid\"\"\"\u001b[0m\u001b[1;33m\u001b[0m\u001b[1;33m\u001b[0m\u001b[0m\n\u001b[1;32m-> 1288\u001b[1;33m         \u001b[0mevaluate_candidates\u001b[0m\u001b[1;33m(\u001b[0m\u001b[0mParameterGrid\u001b[0m\u001b[1;33m(\u001b[0m\u001b[0mself\u001b[0m\u001b[1;33m.\u001b[0m\u001b[0mparam_grid\u001b[0m\u001b[1;33m)\u001b[0m\u001b[1;33m)\u001b[0m\u001b[1;33m\u001b[0m\u001b[1;33m\u001b[0m\u001b[0m\n\u001b[0m\u001b[0;32m   1289\u001b[0m \u001b[1;33m\u001b[0m\u001b[0m\n\u001b[0;32m   1290\u001b[0m \u001b[1;33m\u001b[0m\u001b[0m\n",
            "\u001b[1;32mc:\\Users\\jeffs\\anaconda3\\lib\\site-packages\\sklearn\\model_selection\\_search.py\u001b[0m in \u001b[0;36mevaluate_candidates\u001b[1;34m(candidate_params, cv, more_results)\u001b[0m\n\u001b[0;32m    793\u001b[0m                               n_splits, n_candidates, n_candidates * n_splits))\n\u001b[0;32m    794\u001b[0m \u001b[1;33m\u001b[0m\u001b[0m\n\u001b[1;32m--> 795\u001b[1;33m                 out = parallel(delayed(_fit_and_score)(clone(base_estimator),\n\u001b[0m\u001b[0;32m    796\u001b[0m                                                        \u001b[0mX\u001b[0m\u001b[1;33m,\u001b[0m \u001b[0my\u001b[0m\u001b[1;33m,\u001b[0m\u001b[1;33m\u001b[0m\u001b[1;33m\u001b[0m\u001b[0m\n\u001b[0;32m    797\u001b[0m                                                        \u001b[0mtrain\u001b[0m\u001b[1;33m=\u001b[0m\u001b[0mtrain\u001b[0m\u001b[1;33m,\u001b[0m \u001b[0mtest\u001b[0m\u001b[1;33m=\u001b[0m\u001b[0mtest\u001b[0m\u001b[1;33m,\u001b[0m\u001b[1;33m\u001b[0m\u001b[1;33m\u001b[0m\u001b[0m\n",
            "\u001b[1;32mc:\\Users\\jeffs\\anaconda3\\lib\\site-packages\\joblib\\parallel.py\u001b[0m in \u001b[0;36m__call__\u001b[1;34m(self, iterable)\u001b[0m\n\u001b[0;32m   1052\u001b[0m \u001b[1;33m\u001b[0m\u001b[0m\n\u001b[0;32m   1053\u001b[0m             \u001b[1;32mwith\u001b[0m \u001b[0mself\u001b[0m\u001b[1;33m.\u001b[0m\u001b[0m_backend\u001b[0m\u001b[1;33m.\u001b[0m\u001b[0mretrieval_context\u001b[0m\u001b[1;33m(\u001b[0m\u001b[1;33m)\u001b[0m\u001b[1;33m:\u001b[0m\u001b[1;33m\u001b[0m\u001b[1;33m\u001b[0m\u001b[0m\n\u001b[1;32m-> 1054\u001b[1;33m                 \u001b[0mself\u001b[0m\u001b[1;33m.\u001b[0m\u001b[0mretrieve\u001b[0m\u001b[1;33m(\u001b[0m\u001b[1;33m)\u001b[0m\u001b[1;33m\u001b[0m\u001b[1;33m\u001b[0m\u001b[0m\n\u001b[0m\u001b[0;32m   1055\u001b[0m             \u001b[1;31m# Make sure that we get a last message telling us we are done\u001b[0m\u001b[1;33m\u001b[0m\u001b[1;33m\u001b[0m\u001b[1;33m\u001b[0m\u001b[0m\n\u001b[0;32m   1056\u001b[0m             \u001b[0melapsed_time\u001b[0m \u001b[1;33m=\u001b[0m \u001b[0mtime\u001b[0m\u001b[1;33m.\u001b[0m\u001b[0mtime\u001b[0m\u001b[1;33m(\u001b[0m\u001b[1;33m)\u001b[0m \u001b[1;33m-\u001b[0m \u001b[0mself\u001b[0m\u001b[1;33m.\u001b[0m\u001b[0m_start_time\u001b[0m\u001b[1;33m\u001b[0m\u001b[1;33m\u001b[0m\u001b[0m\n",
            "\u001b[1;32mc:\\Users\\jeffs\\anaconda3\\lib\\site-packages\\joblib\\parallel.py\u001b[0m in \u001b[0;36mretrieve\u001b[1;34m(self)\u001b[0m\n\u001b[0;32m    931\u001b[0m             \u001b[1;32mtry\u001b[0m\u001b[1;33m:\u001b[0m\u001b[1;33m\u001b[0m\u001b[1;33m\u001b[0m\u001b[0m\n\u001b[0;32m    932\u001b[0m                 \u001b[1;32mif\u001b[0m \u001b[0mgetattr\u001b[0m\u001b[1;33m(\u001b[0m\u001b[0mself\u001b[0m\u001b[1;33m.\u001b[0m\u001b[0m_backend\u001b[0m\u001b[1;33m,\u001b[0m \u001b[1;34m'supports_timeout'\u001b[0m\u001b[1;33m,\u001b[0m \u001b[1;32mFalse\u001b[0m\u001b[1;33m)\u001b[0m\u001b[1;33m:\u001b[0m\u001b[1;33m\u001b[0m\u001b[1;33m\u001b[0m\u001b[0m\n\u001b[1;32m--> 933\u001b[1;33m                     \u001b[0mself\u001b[0m\u001b[1;33m.\u001b[0m\u001b[0m_output\u001b[0m\u001b[1;33m.\u001b[0m\u001b[0mextend\u001b[0m\u001b[1;33m(\u001b[0m\u001b[0mjob\u001b[0m\u001b[1;33m.\u001b[0m\u001b[0mget\u001b[0m\u001b[1;33m(\u001b[0m\u001b[0mtimeout\u001b[0m\u001b[1;33m=\u001b[0m\u001b[0mself\u001b[0m\u001b[1;33m.\u001b[0m\u001b[0mtimeout\u001b[0m\u001b[1;33m)\u001b[0m\u001b[1;33m)\u001b[0m\u001b[1;33m\u001b[0m\u001b[1;33m\u001b[0m\u001b[0m\n\u001b[0m\u001b[0;32m    934\u001b[0m                 \u001b[1;32melse\u001b[0m\u001b[1;33m:\u001b[0m\u001b[1;33m\u001b[0m\u001b[1;33m\u001b[0m\u001b[0m\n\u001b[0;32m    935\u001b[0m                     \u001b[0mself\u001b[0m\u001b[1;33m.\u001b[0m\u001b[0m_output\u001b[0m\u001b[1;33m.\u001b[0m\u001b[0mextend\u001b[0m\u001b[1;33m(\u001b[0m\u001b[0mjob\u001b[0m\u001b[1;33m.\u001b[0m\u001b[0mget\u001b[0m\u001b[1;33m(\u001b[0m\u001b[1;33m)\u001b[0m\u001b[1;33m)\u001b[0m\u001b[1;33m\u001b[0m\u001b[1;33m\u001b[0m\u001b[0m\n",
            "\u001b[1;32mc:\\Users\\jeffs\\anaconda3\\lib\\site-packages\\joblib\\_parallel_backends.py\u001b[0m in \u001b[0;36mwrap_future_result\u001b[1;34m(future, timeout)\u001b[0m\n\u001b[0;32m    540\u001b[0m         AsyncResults.get from multiprocessing.\"\"\"\n\u001b[0;32m    541\u001b[0m         \u001b[1;32mtry\u001b[0m\u001b[1;33m:\u001b[0m\u001b[1;33m\u001b[0m\u001b[1;33m\u001b[0m\u001b[0m\n\u001b[1;32m--> 542\u001b[1;33m             \u001b[1;32mreturn\u001b[0m \u001b[0mfuture\u001b[0m\u001b[1;33m.\u001b[0m\u001b[0mresult\u001b[0m\u001b[1;33m(\u001b[0m\u001b[0mtimeout\u001b[0m\u001b[1;33m=\u001b[0m\u001b[0mtimeout\u001b[0m\u001b[1;33m)\u001b[0m\u001b[1;33m\u001b[0m\u001b[1;33m\u001b[0m\u001b[0m\n\u001b[0m\u001b[0;32m    543\u001b[0m         \u001b[1;32mexcept\u001b[0m \u001b[0mCfTimeoutError\u001b[0m \u001b[1;32mas\u001b[0m \u001b[0me\u001b[0m\u001b[1;33m:\u001b[0m\u001b[1;33m\u001b[0m\u001b[1;33m\u001b[0m\u001b[0m\n\u001b[0;32m    544\u001b[0m             \u001b[1;32mraise\u001b[0m \u001b[0mTimeoutError\u001b[0m \u001b[1;32mfrom\u001b[0m \u001b[0me\u001b[0m\u001b[1;33m\u001b[0m\u001b[1;33m\u001b[0m\u001b[0m\n",
            "\u001b[1;32mc:\\Users\\jeffs\\anaconda3\\lib\\concurrent\\futures\\_base.py\u001b[0m in \u001b[0;36mresult\u001b[1;34m(self, timeout)\u001b[0m\n\u001b[0;32m    432\u001b[0m                 \u001b[1;32mreturn\u001b[0m \u001b[0mself\u001b[0m\u001b[1;33m.\u001b[0m\u001b[0m__get_result\u001b[0m\u001b[1;33m(\u001b[0m\u001b[1;33m)\u001b[0m\u001b[1;33m\u001b[0m\u001b[1;33m\u001b[0m\u001b[0m\n\u001b[0;32m    433\u001b[0m \u001b[1;33m\u001b[0m\u001b[0m\n\u001b[1;32m--> 434\u001b[1;33m             \u001b[0mself\u001b[0m\u001b[1;33m.\u001b[0m\u001b[0m_condition\u001b[0m\u001b[1;33m.\u001b[0m\u001b[0mwait\u001b[0m\u001b[1;33m(\u001b[0m\u001b[0mtimeout\u001b[0m\u001b[1;33m)\u001b[0m\u001b[1;33m\u001b[0m\u001b[1;33m\u001b[0m\u001b[0m\n\u001b[0m\u001b[0;32m    435\u001b[0m \u001b[1;33m\u001b[0m\u001b[0m\n\u001b[0;32m    436\u001b[0m             \u001b[1;32mif\u001b[0m \u001b[0mself\u001b[0m\u001b[1;33m.\u001b[0m\u001b[0m_state\u001b[0m \u001b[1;32min\u001b[0m \u001b[1;33m[\u001b[0m\u001b[0mCANCELLED\u001b[0m\u001b[1;33m,\u001b[0m \u001b[0mCANCELLED_AND_NOTIFIED\u001b[0m\u001b[1;33m]\u001b[0m\u001b[1;33m:\u001b[0m\u001b[1;33m\u001b[0m\u001b[1;33m\u001b[0m\u001b[0m\n",
            "\u001b[1;32mc:\\Users\\jeffs\\anaconda3\\lib\\threading.py\u001b[0m in \u001b[0;36mwait\u001b[1;34m(self, timeout)\u001b[0m\n\u001b[0;32m    300\u001b[0m         \u001b[1;32mtry\u001b[0m\u001b[1;33m:\u001b[0m    \u001b[1;31m# restore state no matter what (e.g., KeyboardInterrupt)\u001b[0m\u001b[1;33m\u001b[0m\u001b[1;33m\u001b[0m\u001b[0m\n\u001b[0;32m    301\u001b[0m             \u001b[1;32mif\u001b[0m \u001b[0mtimeout\u001b[0m \u001b[1;32mis\u001b[0m \u001b[1;32mNone\u001b[0m\u001b[1;33m:\u001b[0m\u001b[1;33m\u001b[0m\u001b[1;33m\u001b[0m\u001b[0m\n\u001b[1;32m--> 302\u001b[1;33m                 \u001b[0mwaiter\u001b[0m\u001b[1;33m.\u001b[0m\u001b[0macquire\u001b[0m\u001b[1;33m(\u001b[0m\u001b[1;33m)\u001b[0m\u001b[1;33m\u001b[0m\u001b[1;33m\u001b[0m\u001b[0m\n\u001b[0m\u001b[0;32m    303\u001b[0m                 \u001b[0mgotit\u001b[0m \u001b[1;33m=\u001b[0m \u001b[1;32mTrue\u001b[0m\u001b[1;33m\u001b[0m\u001b[1;33m\u001b[0m\u001b[0m\n\u001b[0;32m    304\u001b[0m             \u001b[1;32melse\u001b[0m\u001b[1;33m:\u001b[0m\u001b[1;33m\u001b[0m\u001b[1;33m\u001b[0m\u001b[0m\n",
            "\u001b[1;31mKeyboardInterrupt\u001b[0m: "
          ]
        }
      ],
      "source": [
        "grid_search.fit(X_train,y_train)"
      ]
    },
    {
      "cell_type": "code",
      "execution_count": 23,
      "id": "7RwZL5D0Hwc6",
      "metadata": {
        "colab": {
          "base_uri": "https://localhost:8080/"
        },
        "id": "7RwZL5D0Hwc6",
        "outputId": "13efbfee-d547-40d9-dd7b-382cccecd25b"
      },
      "outputs": [
        {
          "data": {
            "text/plain": [
              "['mean_fit_time',\n",
              " 'mean_score_time',\n",
              " 'mean_test_score',\n",
              " 'param_max_depth',\n",
              " 'param_min_samples_leaf',\n",
              " 'param_min_samples_split',\n",
              " 'param_n_estimators',\n",
              " 'params',\n",
              " 'rank_test_score',\n",
              " 'split0_test_score',\n",
              " 'split1_test_score',\n",
              " 'split2_test_score',\n",
              " 'std_fit_time',\n",
              " 'std_score_time',\n",
              " 'std_test_score']"
            ]
          },
          "execution_count": 23,
          "metadata": {},
          "output_type": "execute_result"
        }
      ],
      "source": [
        "sorted(grid_search.cv_results_.keys())"
      ]
    },
    {
      "cell_type": "code",
      "execution_count": 25,
      "id": "0ad4e8d1",
      "metadata": {
        "colab": {
          "base_uri": "https://localhost:8080/"
        },
        "id": "0ad4e8d1",
        "outputId": "3dc5cffd-6a46-4ae1-80cc-93f44a18f6e1"
      },
      "outputs": [
        {
          "data": {
            "text/plain": [
              "RandomForestClassifier(max_depth=80, min_samples_leaf=5, min_samples_split=12,\n",
              "                       n_estimators=300, random_state=42)"
            ]
          },
          "execution_count": 25,
          "metadata": {},
          "output_type": "execute_result"
        }
      ],
      "source": [
        "best_grid = grid_search.best_estimator_\n",
        "\n",
        "best_grid\n"
      ]
    },
    {
      "cell_type": "code",
      "execution_count": 15,
      "id": "025a0a3a",
      "metadata": {
        "colab": {
          "base_uri": "https://localhost:8080/",
          "height": 185
        },
        "id": "025a0a3a",
        "outputId": "878a3161-7894-4a6a-8e7f-515a02b99778"
      },
      "outputs": [
        {
          "name": "stdout",
          "output_type": "stream",
          "text": [
            "Accuracy Score:0.834365741987611\n",
            "Precision:0.8279631760644419\n",
            "Recall Score:0.6071729957805907\n",
            "F1 score:0.7005842259006816\n",
            "Confusion Matrix:[[4757  299]\n",
            " [ 931 1439]]\n"
          ]
        },
        {
          "data": {
            "text/html": [
              "<div>\n",
              "<style scoped>\n",
              "    .dataframe tbody tr th:only-of-type {\n",
              "        vertical-align: middle;\n",
              "    }\n",
              "\n",
              "    .dataframe tbody tr th {\n",
              "        vertical-align: top;\n",
              "    }\n",
              "\n",
              "    .dataframe thead th {\n",
              "        text-align: right;\n",
              "    }\n",
              "</style>\n",
              "<table border=\"1\" class=\"dataframe\">\n",
              "  <thead>\n",
              "    <tr style=\"text-align: right;\">\n",
              "      <th></th>\n",
              "      <th>Accuracy Score</th>\n",
              "      <th>Precision</th>\n",
              "      <th>Recall Score</th>\n",
              "      <th>F1 score</th>\n",
              "      <th>Confusion Matrix</th>\n",
              "    </tr>\n",
              "  </thead>\n",
              "  <tbody>\n",
              "    <tr>\n",
              "      <th>0</th>\n",
              "      <td>0.834366</td>\n",
              "      <td>0.827963</td>\n",
              "      <td>0.607173</td>\n",
              "      <td>0.700584</td>\n",
              "      <td>[[4757, 299], [931, 1439]]</td>\n",
              "    </tr>\n",
              "  </tbody>\n",
              "</table>\n",
              "</div>"
            ],
            "text/plain": [
              "   Accuracy Score  Precision  Recall Score  F1 score  \\\n",
              "0        0.834366   0.827963      0.607173  0.700584   \n",
              "\n",
              "             Confusion Matrix  \n",
              "0  [[4757, 299], [931, 1439]]  "
            ]
          },
          "execution_count": 15,
          "metadata": {},
          "output_type": "execute_result"
        }
      ],
      "source": [
        "#Get predictions and evaluate accuracy\n",
        "#evaluate(best_grid, X_test, y_test)\n",
        "evaluate(model, X_test, y_test)"
      ]
    },
    {
      "cell_type": "code",
      "execution_count": 21,
      "id": "de405122",
      "metadata": {},
      "outputs": [],
      "source": [
        "GG=classifier.predict(X_test)\n"
      ]
    },
    {
      "cell_type": "code",
      "execution_count": 22,
      "id": "cfd580a5",
      "metadata": {},
      "outputs": [
        {
          "data": {
            "text/plain": [
              "array([1, 1, 1, ..., 0, 0, 0])"
            ]
          },
          "execution_count": 22,
          "metadata": {},
          "output_type": "execute_result"
        }
      ],
      "source": [
        "GG"
      ]
    },
    {
      "cell_type": "code",
      "execution_count": 24,
      "id": "d285326d",
      "metadata": {},
      "outputs": [
        {
          "data": {
            "text/plain": [
              "(7426,)"
            ]
          },
          "execution_count": 24,
          "metadata": {},
          "output_type": "execute_result"
        }
      ],
      "source": [
        "GG.shape"
      ]
    },
    {
      "cell_type": "code",
      "execution_count": 23,
      "id": "6dd1bc95",
      "metadata": {},
      "outputs": [
        {
          "data": {
            "text/plain": [
              "72       0\n",
              "73       1\n",
              "74       1\n",
              "75       0\n",
              "76       0\n",
              "        ..\n",
              "61590    0\n",
              "61591    0\n",
              "61592    0\n",
              "61593    0\n",
              "61594    0\n",
              "Name: Risk Category, Length: 7426, dtype: int32"
            ]
          },
          "execution_count": 23,
          "metadata": {},
          "output_type": "execute_result"
        }
      ],
      "source": [
        "y_test"
      ]
    },
    {
      "cell_type": "code",
      "execution_count": 25,
      "id": "6aa556c3",
      "metadata": {},
      "outputs": [
        {
          "data": {
            "text/plain": [
              "(7426,)"
            ]
          },
          "execution_count": 25,
          "metadata": {},
          "output_type": "execute_result"
        }
      ],
      "source": [
        "y_test.shape"
      ]
    },
    {
      "cell_type": "code",
      "execution_count": null,
      "id": "a82342fb",
      "metadata": {},
      "outputs": [],
      "source": []
    },
    {
      "cell_type": "code",
      "execution_count": 23,
      "id": "fa9f4160",
      "metadata": {
        "colab": {
          "base_uri": "https://localhost:8080/",
          "height": 363
        },
        "id": "fa9f4160",
        "outputId": "b90e0a7c-b201-4992-9d07-512b31b595e5"
      },
      "outputs": [
        {
          "data": {
            "text/html": [
              "<div>\n",
              "<style scoped>\n",
              "    .dataframe tbody tr th:only-of-type {\n",
              "        vertical-align: middle;\n",
              "    }\n",
              "\n",
              "    .dataframe tbody tr th {\n",
              "        vertical-align: top;\n",
              "    }\n",
              "\n",
              "    .dataframe thead th {\n",
              "        text-align: right;\n",
              "    }\n",
              "</style>\n",
              "<table border=\"1\" class=\"dataframe\">\n",
              "  <thead>\n",
              "    <tr style=\"text-align: right;\">\n",
              "      <th></th>\n",
              "      <th>features</th>\n",
              "      <th>feature_importance</th>\n",
              "    </tr>\n",
              "  </thead>\n",
              "  <tbody>\n",
              "    <tr>\n",
              "      <th>3</th>\n",
              "      <td>No_of_Crimes</td>\n",
              "      <td>0.383531</td>\n",
              "    </tr>\n",
              "    <tr>\n",
              "      <th>1</th>\n",
              "      <td>month</td>\n",
              "      <td>0.158833</td>\n",
              "    </tr>\n",
              "    <tr>\n",
              "      <th>4</th>\n",
              "      <td>Avg_Pop__Densi</td>\n",
              "      <td>0.158168</td>\n",
              "    </tr>\n",
              "    <tr>\n",
              "      <th>0</th>\n",
              "      <td>year</td>\n",
              "      <td>0.096118</td>\n",
              "    </tr>\n",
              "    <tr>\n",
              "      <th>2</th>\n",
              "      <td>AreaSqKm</td>\n",
              "      <td>0.047563</td>\n",
              "    </tr>\n",
              "    <tr>\n",
              "      <th>7</th>\n",
              "      <td>Avg_Income___3</td>\n",
              "      <td>0.046405</td>\n",
              "    </tr>\n",
              "    <tr>\n",
              "      <th>8</th>\n",
              "      <td>Avg_Housing___</td>\n",
              "      <td>0.044581</td>\n",
              "    </tr>\n",
              "    <tr>\n",
              "      <th>5</th>\n",
              "      <td>Avg_Income___T</td>\n",
              "      <td>0.033609</td>\n",
              "    </tr>\n",
              "    <tr>\n",
              "      <th>9</th>\n",
              "      <td>Avg_Education_</td>\n",
              "      <td>0.031193</td>\n",
              "    </tr>\n",
              "    <tr>\n",
              "      <th>6</th>\n",
              "      <td>Avg_Income___2</td>\n",
              "      <td>0.000000</td>\n",
              "    </tr>\n",
              "  </tbody>\n",
              "</table>\n",
              "</div>"
            ],
            "text/plain": [
              "         features  feature_importance\n",
              "3    No_of_Crimes            0.383531\n",
              "1           month            0.158833\n",
              "4  Avg_Pop__Densi            0.158168\n",
              "0            year            0.096118\n",
              "2        AreaSqKm            0.047563\n",
              "7  Avg_Income___3            0.046405\n",
              "8  Avg_Housing___            0.044581\n",
              "5  Avg_Income___T            0.033609\n",
              "9  Avg_Education_            0.031193\n",
              "6  Avg_Income___2            0.000000"
            ]
          },
          "execution_count": 23,
          "metadata": {},
          "output_type": "execute_result"
        }
      ],
      "source": [
        "#feature_importances=pd.DataFrame({'features':X.columns,'feature_importance':best_grid.feature_importances_})\n",
        "feature_importances=pd.DataFrame({'features':X_train.columns,'feature_importance':model.feature_importances_})\n",
        "feature_importances.sort_values('feature_importance',ascending=False)"
      ]
    },
    {
      "cell_type": "code",
      "execution_count": null,
      "id": "0ea7f446",
      "metadata": {
        "colab": {
          "base_uri": "https://localhost:8080/",
          "height": 296
        },
        "id": "0ea7f446",
        "outputId": "0b09b6f2-d8d8-4810-e546-a53138026cbc"
      },
      "outputs": [
        {
          "data": {
            "text/plain": [
              "Text(0.5, 0, 'Random Forest Feature Importance Sort')"
            ]
          },
          "execution_count": 47,
          "metadata": {},
          "output_type": "execute_result"
        },
        {
          "data": {
            "image/png": "[encoded data removed]",
            "text/plain": [
              "<Figure size 432x288 with 1 Axes>"
            ]
          },
          "metadata": {
            "needs_background": "light"
          },
          "output_type": "display_data"
        }
      ],
      "source": [
        "import matplotlib.pyplot as plt\n",
        "sorted_idx = model.feature_importances_.argsort()\n",
        "plt.barh(feature_importances.features[sorted_idx], model.feature_importances_[sorted_idx])\n",
        "plt.xlabel(\"Random Forest Feature Importance Sort\")"
      ]
    },
    {
      "cell_type": "code",
      "execution_count": 1,
      "id": "c81e9aa4",
      "metadata": {},
      "outputs": [
        {
          "data": {
            "text/plain": [
              "'c:\\\\Users\\\\jeffs\\\\.git\\\\Fire\\\\MontrealFire'"
            ]
          },
          "execution_count": 1,
          "metadata": {},
          "output_type": "execute_result"
        }
      ],
      "source": [
        "pwd"
      ]
    },
    {
      "cell_type": "code",
      "execution_count": 16,
      "id": "6cee781b",
      "metadata": {
        "id": "6cee781b"
      },
      "outputs": [],
      "source": [
        "Prediction=pd.read_csv(\"Artificial_Grids.csv\")"
      ]
    },
    {
      "cell_type": "code",
      "execution_count": 18,
      "id": "74ec0098",
      "metadata": {},
      "outputs": [
        {
          "name": "stdout",
          "output_type": "stream",
          "text": [
            "<class 'pandas.core.frame.DataFrame'>\n",
            "RangeIndex: 1984 entries, 0 to 1983\n",
            "Data columns (total 4 columns):\n",
            " #   Column      Non-Null Count  Dtype \n",
            "---  ------      --------------  ----- \n",
            " 0   Unnamed: 0  1984 non-null   int64 \n",
            " 1   Key         1984 non-null   object\n",
            " 2   Month       1984 non-null   int64 \n",
            " 3   Year        1984 non-null   int64 \n",
            "dtypes: int64(3), object(1)\n",
            "memory usage: 62.1+ KB\n"
          ]
        }
      ],
      "source": [
        "Prediction.info()"
      ]
    },
    {
      "cell_type": "code",
      "execution_count": 19,
      "id": "3089257b",
      "metadata": {},
      "outputs": [
        {
          "data": {
            "text/html": [
              "<div>\n",
              "<style scoped>\n",
              "    .dataframe tbody tr th:only-of-type {\n",
              "        vertical-align: middle;\n",
              "    }\n",
              "\n",
              "    .dataframe tbody tr th {\n",
              "        vertical-align: top;\n",
              "    }\n",
              "\n",
              "    .dataframe thead th {\n",
              "        text-align: right;\n",
              "    }\n",
              "</style>\n",
              "<table border=\"1\" class=\"dataframe\">\n",
              "  <thead>\n",
              "    <tr style=\"text-align: right;\">\n",
              "      <th></th>\n",
              "      <th>Key</th>\n",
              "      <th>Month</th>\n",
              "      <th>Year</th>\n",
              "    </tr>\n",
              "  </thead>\n",
              "  <tbody>\n",
              "    <tr>\n",
              "      <th>0</th>\n",
              "      <td>Caserne 03 Grid0_0</td>\n",
              "      <td>9</td>\n",
              "      <td>2022</td>\n",
              "    </tr>\n",
              "    <tr>\n",
              "      <th>1</th>\n",
              "      <td>Caserne 03 Grid0_1</td>\n",
              "      <td>9</td>\n",
              "      <td>2022</td>\n",
              "    </tr>\n",
              "    <tr>\n",
              "      <th>2</th>\n",
              "      <td>Caserne 03 Grid1_0</td>\n",
              "      <td>9</td>\n",
              "      <td>2022</td>\n",
              "    </tr>\n",
              "    <tr>\n",
              "      <th>3</th>\n",
              "      <td>Caserne 03 Grid1_1</td>\n",
              "      <td>9</td>\n",
              "      <td>2022</td>\n",
              "    </tr>\n",
              "    <tr>\n",
              "      <th>4</th>\n",
              "      <td>Caserne 03 Grid2_0</td>\n",
              "      <td>9</td>\n",
              "      <td>2022</td>\n",
              "    </tr>\n",
              "    <tr>\n",
              "      <th>...</th>\n",
              "      <td>...</td>\n",
              "      <td>...</td>\n",
              "      <td>...</td>\n",
              "    </tr>\n",
              "    <tr>\n",
              "      <th>1979</th>\n",
              "      <td>caserne 47 Grid1_2</td>\n",
              "      <td>12</td>\n",
              "      <td>2022</td>\n",
              "    </tr>\n",
              "    <tr>\n",
              "      <th>1980</th>\n",
              "      <td>caserne 47 Grid1_3</td>\n",
              "      <td>12</td>\n",
              "      <td>2022</td>\n",
              "    </tr>\n",
              "    <tr>\n",
              "      <th>1981</th>\n",
              "      <td>caserne 47 Grid2_0</td>\n",
              "      <td>12</td>\n",
              "      <td>2022</td>\n",
              "    </tr>\n",
              "    <tr>\n",
              "      <th>1982</th>\n",
              "      <td>caserne 47 Grid2_1</td>\n",
              "      <td>12</td>\n",
              "      <td>2022</td>\n",
              "    </tr>\n",
              "    <tr>\n",
              "      <th>1983</th>\n",
              "      <td>caserne 47 Grid2_2</td>\n",
              "      <td>12</td>\n",
              "      <td>2022</td>\n",
              "    </tr>\n",
              "  </tbody>\n",
              "</table>\n",
              "<p>1984 rows × 3 columns</p>\n",
              "</div>"
            ],
            "text/plain": [
              "                     Key  Month  Year\n",
              "0     Caserne 03 Grid0_0      9  2022\n",
              "1     Caserne 03 Grid0_1      9  2022\n",
              "2     Caserne 03 Grid1_0      9  2022\n",
              "3     Caserne 03 Grid1_1      9  2022\n",
              "4     Caserne 03 Grid2_0      9  2022\n",
              "...                  ...    ...   ...\n",
              "1979  caserne 47 Grid1_2     12  2022\n",
              "1980  caserne 47 Grid1_3     12  2022\n",
              "1981  caserne 47 Grid2_0     12  2022\n",
              "1982  caserne 47 Grid2_1     12  2022\n",
              "1983  caserne 47 Grid2_2     12  2022\n",
              "\n",
              "[1984 rows x 3 columns]"
            ]
          },
          "execution_count": 19,
          "metadata": {},
          "output_type": "execute_result"
        }
      ],
      "source": [
        "Prediction.drop('Unnamed: 0', axis=1)"
      ]
    },
    {
      "cell_type": "code",
      "execution_count": 20,
      "id": "80b82166",
      "metadata": {},
      "outputs": [
        {
          "ename": "ValueError",
          "evalue": "could not convert string to float: 'Caserne 03 Grid0_0'",
          "output_type": "error",
          "traceback": [
            "\u001b[1;31m---------------------------------------------------------------------------\u001b[0m",
            "\u001b[1;31mValueError\u001b[0m                                Traceback (most recent call last)",
            "\u001b[1;32m<ipython-input-20-ac40e77089ff>\u001b[0m in \u001b[0;36m<module>\u001b[1;34m\u001b[0m\n\u001b[1;32m----> 1\u001b[1;33m \u001b[0mpp\u001b[0m\u001b[1;33m=\u001b[0m\u001b[0mclassifier\u001b[0m\u001b[1;33m.\u001b[0m\u001b[0mpredict\u001b[0m\u001b[1;33m(\u001b[0m\u001b[0mPrediction\u001b[0m\u001b[1;33m)\u001b[0m\u001b[1;33m\u001b[0m\u001b[1;33m\u001b[0m\u001b[0m\n\u001b[0m",
            "\u001b[1;32mc:\\Users\\jeffs\\anaconda3\\lib\\site-packages\\sklearn\\ensemble\\_forest.py\u001b[0m in \u001b[0;36mpredict\u001b[1;34m(self, X)\u001b[0m\n\u001b[0;32m    628\u001b[0m             \u001b[0mThe\u001b[0m \u001b[0mpredicted\u001b[0m \u001b[0mclasses\u001b[0m\u001b[1;33m.\u001b[0m\u001b[1;33m\u001b[0m\u001b[1;33m\u001b[0m\u001b[0m\n\u001b[0;32m    629\u001b[0m         \"\"\"\n\u001b[1;32m--> 630\u001b[1;33m         \u001b[0mproba\u001b[0m \u001b[1;33m=\u001b[0m \u001b[0mself\u001b[0m\u001b[1;33m.\u001b[0m\u001b[0mpredict_proba\u001b[0m\u001b[1;33m(\u001b[0m\u001b[0mX\u001b[0m\u001b[1;33m)\u001b[0m\u001b[1;33m\u001b[0m\u001b[1;33m\u001b[0m\u001b[0m\n\u001b[0m\u001b[0;32m    631\u001b[0m \u001b[1;33m\u001b[0m\u001b[0m\n\u001b[0;32m    632\u001b[0m         \u001b[1;32mif\u001b[0m \u001b[0mself\u001b[0m\u001b[1;33m.\u001b[0m\u001b[0mn_outputs_\u001b[0m \u001b[1;33m==\u001b[0m \u001b[1;36m1\u001b[0m\u001b[1;33m:\u001b[0m\u001b[1;33m\u001b[0m\u001b[1;33m\u001b[0m\u001b[0m\n",
            "\u001b[1;32mc:\\Users\\jeffs\\anaconda3\\lib\\site-packages\\sklearn\\ensemble\\_forest.py\u001b[0m in \u001b[0;36mpredict_proba\u001b[1;34m(self, X)\u001b[0m\n\u001b[0;32m    672\u001b[0m         \u001b[0mcheck_is_fitted\u001b[0m\u001b[1;33m(\u001b[0m\u001b[0mself\u001b[0m\u001b[1;33m)\u001b[0m\u001b[1;33m\u001b[0m\u001b[1;33m\u001b[0m\u001b[0m\n\u001b[0;32m    673\u001b[0m         \u001b[1;31m# Check data\u001b[0m\u001b[1;33m\u001b[0m\u001b[1;33m\u001b[0m\u001b[1;33m\u001b[0m\u001b[0m\n\u001b[1;32m--> 674\u001b[1;33m         \u001b[0mX\u001b[0m \u001b[1;33m=\u001b[0m \u001b[0mself\u001b[0m\u001b[1;33m.\u001b[0m\u001b[0m_validate_X_predict\u001b[0m\u001b[1;33m(\u001b[0m\u001b[0mX\u001b[0m\u001b[1;33m)\u001b[0m\u001b[1;33m\u001b[0m\u001b[1;33m\u001b[0m\u001b[0m\n\u001b[0m\u001b[0;32m    675\u001b[0m \u001b[1;33m\u001b[0m\u001b[0m\n\u001b[0;32m    676\u001b[0m         \u001b[1;31m# Assign chunk of trees to jobs\u001b[0m\u001b[1;33m\u001b[0m\u001b[1;33m\u001b[0m\u001b[1;33m\u001b[0m\u001b[0m\n",
            "\u001b[1;32mc:\\Users\\jeffs\\anaconda3\\lib\\site-packages\\sklearn\\ensemble\\_forest.py\u001b[0m in \u001b[0;36m_validate_X_predict\u001b[1;34m(self, X)\u001b[0m\n\u001b[0;32m    420\u001b[0m         \u001b[0mcheck_is_fitted\u001b[0m\u001b[1;33m(\u001b[0m\u001b[0mself\u001b[0m\u001b[1;33m)\u001b[0m\u001b[1;33m\u001b[0m\u001b[1;33m\u001b[0m\u001b[0m\n\u001b[0;32m    421\u001b[0m \u001b[1;33m\u001b[0m\u001b[0m\n\u001b[1;32m--> 422\u001b[1;33m         \u001b[1;32mreturn\u001b[0m \u001b[0mself\u001b[0m\u001b[1;33m.\u001b[0m\u001b[0mestimators_\u001b[0m\u001b[1;33m[\u001b[0m\u001b[1;36m0\u001b[0m\u001b[1;33m]\u001b[0m\u001b[1;33m.\u001b[0m\u001b[0m_validate_X_predict\u001b[0m\u001b[1;33m(\u001b[0m\u001b[0mX\u001b[0m\u001b[1;33m,\u001b[0m \u001b[0mcheck_input\u001b[0m\u001b[1;33m=\u001b[0m\u001b[1;32mTrue\u001b[0m\u001b[1;33m)\u001b[0m\u001b[1;33m\u001b[0m\u001b[1;33m\u001b[0m\u001b[0m\n\u001b[0m\u001b[0;32m    423\u001b[0m \u001b[1;33m\u001b[0m\u001b[0m\n\u001b[0;32m    424\u001b[0m     \u001b[1;33m@\u001b[0m\u001b[0mproperty\u001b[0m\u001b[1;33m\u001b[0m\u001b[1;33m\u001b[0m\u001b[0m\n",
            "\u001b[1;32mc:\\Users\\jeffs\\anaconda3\\lib\\site-packages\\sklearn\\tree\\_classes.py\u001b[0m in \u001b[0;36m_validate_X_predict\u001b[1;34m(self, X, check_input)\u001b[0m\n\u001b[0;32m    400\u001b[0m         \u001b[1;34m\"\"\"Validate the training data on predict (probabilities).\"\"\"\u001b[0m\u001b[1;33m\u001b[0m\u001b[1;33m\u001b[0m\u001b[0m\n\u001b[0;32m    401\u001b[0m         \u001b[1;32mif\u001b[0m \u001b[0mcheck_input\u001b[0m\u001b[1;33m:\u001b[0m\u001b[1;33m\u001b[0m\u001b[1;33m\u001b[0m\u001b[0m\n\u001b[1;32m--> 402\u001b[1;33m             X = self._validate_data(X, dtype=DTYPE, accept_sparse=\"csr\",\n\u001b[0m\u001b[0;32m    403\u001b[0m                                     reset=False)\n\u001b[0;32m    404\u001b[0m             if issparse(X) and (X.indices.dtype != np.intc or\n",
            "\u001b[1;32mc:\\Users\\jeffs\\anaconda3\\lib\\site-packages\\sklearn\\base.py\u001b[0m in \u001b[0;36m_validate_data\u001b[1;34m(self, X, y, reset, validate_separately, **check_params)\u001b[0m\n\u001b[0;32m    419\u001b[0m             \u001b[0mout\u001b[0m \u001b[1;33m=\u001b[0m \u001b[0mX\u001b[0m\u001b[1;33m\u001b[0m\u001b[1;33m\u001b[0m\u001b[0m\n\u001b[0;32m    420\u001b[0m         \u001b[1;32melif\u001b[0m \u001b[0misinstance\u001b[0m\u001b[1;33m(\u001b[0m\u001b[0my\u001b[0m\u001b[1;33m,\u001b[0m \u001b[0mstr\u001b[0m\u001b[1;33m)\u001b[0m \u001b[1;32mand\u001b[0m \u001b[0my\u001b[0m \u001b[1;33m==\u001b[0m \u001b[1;34m'no_validation'\u001b[0m\u001b[1;33m:\u001b[0m\u001b[1;33m\u001b[0m\u001b[1;33m\u001b[0m\u001b[0m\n\u001b[1;32m--> 421\u001b[1;33m             \u001b[0mX\u001b[0m \u001b[1;33m=\u001b[0m \u001b[0mcheck_array\u001b[0m\u001b[1;33m(\u001b[0m\u001b[0mX\u001b[0m\u001b[1;33m,\u001b[0m \u001b[1;33m**\u001b[0m\u001b[0mcheck_params\u001b[0m\u001b[1;33m)\u001b[0m\u001b[1;33m\u001b[0m\u001b[1;33m\u001b[0m\u001b[0m\n\u001b[0m\u001b[0;32m    422\u001b[0m             \u001b[0mout\u001b[0m \u001b[1;33m=\u001b[0m \u001b[0mX\u001b[0m\u001b[1;33m\u001b[0m\u001b[1;33m\u001b[0m\u001b[0m\n\u001b[0;32m    423\u001b[0m         \u001b[1;32melse\u001b[0m\u001b[1;33m:\u001b[0m\u001b[1;33m\u001b[0m\u001b[1;33m\u001b[0m\u001b[0m\n",
            "\u001b[1;32mc:\\Users\\jeffs\\anaconda3\\lib\\site-packages\\sklearn\\utils\\validation.py\u001b[0m in \u001b[0;36minner_f\u001b[1;34m(*args, **kwargs)\u001b[0m\n\u001b[0;32m     61\u001b[0m             \u001b[0mextra_args\u001b[0m \u001b[1;33m=\u001b[0m \u001b[0mlen\u001b[0m\u001b[1;33m(\u001b[0m\u001b[0margs\u001b[0m\u001b[1;33m)\u001b[0m \u001b[1;33m-\u001b[0m \u001b[0mlen\u001b[0m\u001b[1;33m(\u001b[0m\u001b[0mall_args\u001b[0m\u001b[1;33m)\u001b[0m\u001b[1;33m\u001b[0m\u001b[1;33m\u001b[0m\u001b[0m\n\u001b[0;32m     62\u001b[0m             \u001b[1;32mif\u001b[0m \u001b[0mextra_args\u001b[0m \u001b[1;33m<=\u001b[0m \u001b[1;36m0\u001b[0m\u001b[1;33m:\u001b[0m\u001b[1;33m\u001b[0m\u001b[1;33m\u001b[0m\u001b[0m\n\u001b[1;32m---> 63\u001b[1;33m                 \u001b[1;32mreturn\u001b[0m \u001b[0mf\u001b[0m\u001b[1;33m(\u001b[0m\u001b[1;33m*\u001b[0m\u001b[0margs\u001b[0m\u001b[1;33m,\u001b[0m \u001b[1;33m**\u001b[0m\u001b[0mkwargs\u001b[0m\u001b[1;33m)\u001b[0m\u001b[1;33m\u001b[0m\u001b[1;33m\u001b[0m\u001b[0m\n\u001b[0m\u001b[0;32m     64\u001b[0m \u001b[1;33m\u001b[0m\u001b[0m\n\u001b[0;32m     65\u001b[0m             \u001b[1;31m# extra_args > 0\u001b[0m\u001b[1;33m\u001b[0m\u001b[1;33m\u001b[0m\u001b[1;33m\u001b[0m\u001b[0m\n",
            "\u001b[1;32mc:\\Users\\jeffs\\anaconda3\\lib\\site-packages\\sklearn\\utils\\validation.py\u001b[0m in \u001b[0;36mcheck_array\u001b[1;34m(array, accept_sparse, accept_large_sparse, dtype, order, copy, force_all_finite, ensure_2d, allow_nd, ensure_min_samples, ensure_min_features, estimator)\u001b[0m\n\u001b[0;32m    614\u001b[0m                     \u001b[0marray\u001b[0m \u001b[1;33m=\u001b[0m \u001b[0marray\u001b[0m\u001b[1;33m.\u001b[0m\u001b[0mastype\u001b[0m\u001b[1;33m(\u001b[0m\u001b[0mdtype\u001b[0m\u001b[1;33m,\u001b[0m \u001b[0mcasting\u001b[0m\u001b[1;33m=\u001b[0m\u001b[1;34m\"unsafe\"\u001b[0m\u001b[1;33m,\u001b[0m \u001b[0mcopy\u001b[0m\u001b[1;33m=\u001b[0m\u001b[1;32mFalse\u001b[0m\u001b[1;33m)\u001b[0m\u001b[1;33m\u001b[0m\u001b[1;33m\u001b[0m\u001b[0m\n\u001b[0;32m    615\u001b[0m                 \u001b[1;32melse\u001b[0m\u001b[1;33m:\u001b[0m\u001b[1;33m\u001b[0m\u001b[1;33m\u001b[0m\u001b[0m\n\u001b[1;32m--> 616\u001b[1;33m                     \u001b[0marray\u001b[0m \u001b[1;33m=\u001b[0m \u001b[0mnp\u001b[0m\u001b[1;33m.\u001b[0m\u001b[0masarray\u001b[0m\u001b[1;33m(\u001b[0m\u001b[0marray\u001b[0m\u001b[1;33m,\u001b[0m \u001b[0morder\u001b[0m\u001b[1;33m=\u001b[0m\u001b[0morder\u001b[0m\u001b[1;33m,\u001b[0m \u001b[0mdtype\u001b[0m\u001b[1;33m=\u001b[0m\u001b[0mdtype\u001b[0m\u001b[1;33m)\u001b[0m\u001b[1;33m\u001b[0m\u001b[1;33m\u001b[0m\u001b[0m\n\u001b[0m\u001b[0;32m    617\u001b[0m             \u001b[1;32mexcept\u001b[0m \u001b[0mComplexWarning\u001b[0m \u001b[1;32mas\u001b[0m \u001b[0mcomplex_warning\u001b[0m\u001b[1;33m:\u001b[0m\u001b[1;33m\u001b[0m\u001b[1;33m\u001b[0m\u001b[0m\n\u001b[0;32m    618\u001b[0m                 raise ValueError(\"Complex data not supported\\n\"\n",
            "\u001b[1;32mc:\\Users\\jeffs\\anaconda3\\lib\\site-packages\\numpy\\core\\_asarray.py\u001b[0m in \u001b[0;36masarray\u001b[1;34m(a, dtype, order, like)\u001b[0m\n\u001b[0;32m    100\u001b[0m         \u001b[1;32mreturn\u001b[0m \u001b[0m_asarray_with_like\u001b[0m\u001b[1;33m(\u001b[0m\u001b[0ma\u001b[0m\u001b[1;33m,\u001b[0m \u001b[0mdtype\u001b[0m\u001b[1;33m=\u001b[0m\u001b[0mdtype\u001b[0m\u001b[1;33m,\u001b[0m \u001b[0morder\u001b[0m\u001b[1;33m=\u001b[0m\u001b[0morder\u001b[0m\u001b[1;33m,\u001b[0m \u001b[0mlike\u001b[0m\u001b[1;33m=\u001b[0m\u001b[0mlike\u001b[0m\u001b[1;33m)\u001b[0m\u001b[1;33m\u001b[0m\u001b[1;33m\u001b[0m\u001b[0m\n\u001b[0;32m    101\u001b[0m \u001b[1;33m\u001b[0m\u001b[0m\n\u001b[1;32m--> 102\u001b[1;33m     \u001b[1;32mreturn\u001b[0m \u001b[0marray\u001b[0m\u001b[1;33m(\u001b[0m\u001b[0ma\u001b[0m\u001b[1;33m,\u001b[0m \u001b[0mdtype\u001b[0m\u001b[1;33m,\u001b[0m \u001b[0mcopy\u001b[0m\u001b[1;33m=\u001b[0m\u001b[1;32mFalse\u001b[0m\u001b[1;33m,\u001b[0m \u001b[0morder\u001b[0m\u001b[1;33m=\u001b[0m\u001b[0morder\u001b[0m\u001b[1;33m)\u001b[0m\u001b[1;33m\u001b[0m\u001b[1;33m\u001b[0m\u001b[0m\n\u001b[0m\u001b[0;32m    103\u001b[0m \u001b[1;33m\u001b[0m\u001b[0m\n\u001b[0;32m    104\u001b[0m \u001b[1;33m\u001b[0m\u001b[0m\n",
            "\u001b[1;32mc:\\Users\\jeffs\\anaconda3\\lib\\site-packages\\pandas\\core\\generic.py\u001b[0m in \u001b[0;36m__array__\u001b[1;34m(self, dtype)\u001b[0m\n\u001b[0;32m   1897\u001b[0m \u001b[1;33m\u001b[0m\u001b[0m\n\u001b[0;32m   1898\u001b[0m     \u001b[1;32mdef\u001b[0m \u001b[0m__array__\u001b[0m\u001b[1;33m(\u001b[0m\u001b[0mself\u001b[0m\u001b[1;33m,\u001b[0m \u001b[0mdtype\u001b[0m\u001b[1;33m=\u001b[0m\u001b[1;32mNone\u001b[0m\u001b[1;33m)\u001b[0m \u001b[1;33m->\u001b[0m \u001b[0mnp\u001b[0m\u001b[1;33m.\u001b[0m\u001b[0mndarray\u001b[0m\u001b[1;33m:\u001b[0m\u001b[1;33m\u001b[0m\u001b[1;33m\u001b[0m\u001b[0m\n\u001b[1;32m-> 1899\u001b[1;33m         \u001b[1;32mreturn\u001b[0m \u001b[0mnp\u001b[0m\u001b[1;33m.\u001b[0m\u001b[0masarray\u001b[0m\u001b[1;33m(\u001b[0m\u001b[0mself\u001b[0m\u001b[1;33m.\u001b[0m\u001b[0m_values\u001b[0m\u001b[1;33m,\u001b[0m \u001b[0mdtype\u001b[0m\u001b[1;33m=\u001b[0m\u001b[0mdtype\u001b[0m\u001b[1;33m)\u001b[0m\u001b[1;33m\u001b[0m\u001b[1;33m\u001b[0m\u001b[0m\n\u001b[0m\u001b[0;32m   1900\u001b[0m \u001b[1;33m\u001b[0m\u001b[0m\n\u001b[0;32m   1901\u001b[0m     def __array_wrap__(\n",
            "\u001b[1;32mc:\\Users\\jeffs\\anaconda3\\lib\\site-packages\\numpy\\core\\_asarray.py\u001b[0m in \u001b[0;36masarray\u001b[1;34m(a, dtype, order, like)\u001b[0m\n\u001b[0;32m    100\u001b[0m         \u001b[1;32mreturn\u001b[0m \u001b[0m_asarray_with_like\u001b[0m\u001b[1;33m(\u001b[0m\u001b[0ma\u001b[0m\u001b[1;33m,\u001b[0m \u001b[0mdtype\u001b[0m\u001b[1;33m=\u001b[0m\u001b[0mdtype\u001b[0m\u001b[1;33m,\u001b[0m \u001b[0morder\u001b[0m\u001b[1;33m=\u001b[0m\u001b[0morder\u001b[0m\u001b[1;33m,\u001b[0m \u001b[0mlike\u001b[0m\u001b[1;33m=\u001b[0m\u001b[0mlike\u001b[0m\u001b[1;33m)\u001b[0m\u001b[1;33m\u001b[0m\u001b[1;33m\u001b[0m\u001b[0m\n\u001b[0;32m    101\u001b[0m \u001b[1;33m\u001b[0m\u001b[0m\n\u001b[1;32m--> 102\u001b[1;33m     \u001b[1;32mreturn\u001b[0m \u001b[0marray\u001b[0m\u001b[1;33m(\u001b[0m\u001b[0ma\u001b[0m\u001b[1;33m,\u001b[0m \u001b[0mdtype\u001b[0m\u001b[1;33m,\u001b[0m \u001b[0mcopy\u001b[0m\u001b[1;33m=\u001b[0m\u001b[1;32mFalse\u001b[0m\u001b[1;33m,\u001b[0m \u001b[0morder\u001b[0m\u001b[1;33m=\u001b[0m\u001b[0morder\u001b[0m\u001b[1;33m)\u001b[0m\u001b[1;33m\u001b[0m\u001b[1;33m\u001b[0m\u001b[0m\n\u001b[0m\u001b[0;32m    103\u001b[0m \u001b[1;33m\u001b[0m\u001b[0m\n\u001b[0;32m    104\u001b[0m \u001b[1;33m\u001b[0m\u001b[0m\n",
            "\u001b[1;31mValueError\u001b[0m: could not convert string to float: 'Caserne 03 Grid0_0'"
          ]
        }
      ],
      "source": [
        "pp=classifier.predict(Prediction)"
      ]
    }
  ],
  "metadata": {
    "colab": {
      "name": "Random Forest Classification Model.ipynb",
      "provenance": []
    },
    "kernelspec": {
      "display_name": "Python 3.8.8 ('base')",
      "language": "python",
      "name": "python3"
    },
    "language_info": {
      "codemirror_mode": {
        "name": "ipython",
        "version": 3
      },
      "file_extension": ".py",
      "mimetype": "text/x-python",
      "name": "python",
      "nbconvert_exporter": "python",
      "pygments_lexer": "ipython3",
      "version": "3.8.8"
    },
    "vscode": {
      "interpreter": {
        "hash": "dd258e70a00b9d05b7368d5ae0e15e17aace735537f960715f93b931a4bb2d53"
      }
    }
  },
  "nbformat": 4,
  "nbformat_minor": 5
}
