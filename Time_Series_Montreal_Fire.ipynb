{
 "cells": [
  {
   "cell_type": "code",
   "execution_count": 11,
   "metadata": {},
   "outputs": [],
   "source": [
    "import pandas as pd\n",
    "import numpy as np\n",
    "#Github documentation https://thecokerdavid.medium.com/how-to-set-up-github-with-visual-studio-code-817fb30f44e2"
   ]
  },
  {
   "cell_type": "code",
   "execution_count": 4,
   "metadata": {},
   "outputs": [
    {
     "data": {
      "text/plain": [
       "'c:\\\\Users\\\\jeffs\\\\.git\\\\Fire\\\\MontrealFire'"
      ]
     },
     "execution_count": 4,
     "metadata": {},
     "output_type": "execute_result"
    }
   ],
   "source": [
    "pwd"
   ]
  },
  {
   "cell_type": "code",
   "execution_count": 3,
   "metadata": {},
   "outputs": [],
   "source": [
    "df=pd.read_csv('incident_by_grid_name_by_date.csv')"
   ]
  },
  {
   "cell_type": "code",
   "execution_count": 10,
   "metadata": {},
   "outputs": [
    {
     "data": {
      "text/html": [
       "<div>\n",
       "<style scoped>\n",
       "    .dataframe tbody tr th:only-of-type {\n",
       "        vertical-align: middle;\n",
       "    }\n",
       "\n",
       "    .dataframe tbody tr th {\n",
       "        vertical-align: top;\n",
       "    }\n",
       "\n",
       "    .dataframe thead th {\n",
       "        text-align: right;\n",
       "    }\n",
       "</style>\n",
       "<table border=\"1\" class=\"dataframe\">\n",
       "  <thead>\n",
       "    <tr style=\"text-align: right;\">\n",
       "      <th></th>\n",
       "      <th>Key</th>\n",
       "      <th>Sum_Count</th>\n",
       "      <th>DateTime_Out</th>\n",
       "      <th>year</th>\n",
       "      <th>month</th>\n",
       "    </tr>\n",
       "  </thead>\n",
       "  <tbody>\n",
       "    <tr>\n",
       "      <th>0</th>\n",
       "      <td>Caserne 03 Grid0_0</td>\n",
       "      <td>1</td>\n",
       "      <td>2015-01-01</td>\n",
       "      <td>2015</td>\n",
       "      <td>1</td>\n",
       "    </tr>\n",
       "    <tr>\n",
       "      <th>1</th>\n",
       "      <td>Caserne 03 Grid0_0</td>\n",
       "      <td>1</td>\n",
       "      <td>2015-01-04</td>\n",
       "      <td>2015</td>\n",
       "      <td>1</td>\n",
       "    </tr>\n",
       "    <tr>\n",
       "      <th>2</th>\n",
       "      <td>Caserne 03 Grid0_0</td>\n",
       "      <td>1</td>\n",
       "      <td>2015-01-05</td>\n",
       "      <td>2015</td>\n",
       "      <td>1</td>\n",
       "    </tr>\n",
       "    <tr>\n",
       "      <th>3</th>\n",
       "      <td>Caserne 03 Grid0_0</td>\n",
       "      <td>2</td>\n",
       "      <td>2015-01-07</td>\n",
       "      <td>2015</td>\n",
       "      <td>1</td>\n",
       "    </tr>\n",
       "    <tr>\n",
       "      <th>4</th>\n",
       "      <td>Caserne 03 Grid0_0</td>\n",
       "      <td>3</td>\n",
       "      <td>2015-01-10</td>\n",
       "      <td>2015</td>\n",
       "      <td>1</td>\n",
       "    </tr>\n",
       "    <tr>\n",
       "      <th>...</th>\n",
       "      <td>...</td>\n",
       "      <td>...</td>\n",
       "      <td>...</td>\n",
       "      <td>...</td>\n",
       "      <td>...</td>\n",
       "    </tr>\n",
       "    <tr>\n",
       "      <th>488003</th>\n",
       "      <td>caserne 47 Grid2_2</td>\n",
       "      <td>1</td>\n",
       "      <td>2022-04-15</td>\n",
       "      <td>2022</td>\n",
       "      <td>4</td>\n",
       "    </tr>\n",
       "    <tr>\n",
       "      <th>488004</th>\n",
       "      <td>caserne 47 Grid2_2</td>\n",
       "      <td>1</td>\n",
       "      <td>2022-04-19</td>\n",
       "      <td>2022</td>\n",
       "      <td>4</td>\n",
       "    </tr>\n",
       "    <tr>\n",
       "      <th>488005</th>\n",
       "      <td>caserne 47 Grid2_2</td>\n",
       "      <td>1</td>\n",
       "      <td>2022-04-28</td>\n",
       "      <td>2022</td>\n",
       "      <td>4</td>\n",
       "    </tr>\n",
       "    <tr>\n",
       "      <th>488006</th>\n",
       "      <td>caserne 47 Grid2_2</td>\n",
       "      <td>1</td>\n",
       "      <td>2022-05-21</td>\n",
       "      <td>2022</td>\n",
       "      <td>5</td>\n",
       "    </tr>\n",
       "    <tr>\n",
       "      <th>488007</th>\n",
       "      <td>caserne 47 Grid2_2</td>\n",
       "      <td>1</td>\n",
       "      <td>2022-06-04</td>\n",
       "      <td>2022</td>\n",
       "      <td>6</td>\n",
       "    </tr>\n",
       "  </tbody>\n",
       "</table>\n",
       "<p>488008 rows × 5 columns</p>\n",
       "</div>"
      ],
      "text/plain": [
       "                       Key  Sum_Count DateTime_Out  year  month\n",
       "0       Caserne 03 Grid0_0          1   2015-01-01  2015      1\n",
       "1       Caserne 03 Grid0_0          1   2015-01-04  2015      1\n",
       "2       Caserne 03 Grid0_0          1   2015-01-05  2015      1\n",
       "3       Caserne 03 Grid0_0          2   2015-01-07  2015      1\n",
       "4       Caserne 03 Grid0_0          3   2015-01-10  2015      1\n",
       "...                    ...        ...          ...   ...    ...\n",
       "488003  caserne 47 Grid2_2          1   2022-04-15  2022      4\n",
       "488004  caserne 47 Grid2_2          1   2022-04-19  2022      4\n",
       "488005  caserne 47 Grid2_2          1   2022-04-28  2022      4\n",
       "488006  caserne 47 Grid2_2          1   2022-05-21  2022      5\n",
       "488007  caserne 47 Grid2_2          1   2022-06-04  2022      6\n",
       "\n",
       "[488008 rows x 5 columns]"
      ]
     },
     "execution_count": 10,
     "metadata": {},
     "output_type": "execute_result"
    }
   ],
   "source": [
    "df"
   ]
  },
  {
   "cell_type": "code",
   "execution_count": 9,
   "metadata": {},
   "outputs": [
    {
     "name": "stdout",
     "output_type": "stream",
     "text": [
      "<class 'pandas.core.frame.DataFrame'>\n",
      "RangeIndex: 488008 entries, 0 to 488007\n",
      "Data columns (total 5 columns):\n",
      " #   Column        Non-Null Count   Dtype         \n",
      "---  ------        --------------   -----         \n",
      " 0   Key           488008 non-null  object        \n",
      " 1   Sum_Count     488008 non-null  int64         \n",
      " 2   DateTime_Out  488008 non-null  datetime64[ns]\n",
      " 3   year          488008 non-null  int64         \n",
      " 4   month         488008 non-null  int64         \n",
      "dtypes: datetime64[ns](1), int64(3), object(1)\n",
      "memory usage: 18.6+ MB\n"
     ]
    }
   ],
   "source": [
    "df.info()"
   ]
  },
  {
   "cell_type": "markdown",
   "metadata": {},
   "source": [
    "Date Formating- Converting Object to Date Time and Adding Month and Year"
   ]
  },
  {
   "cell_type": "code",
   "execution_count": 6,
   "metadata": {},
   "outputs": [],
   "source": [
    "df['DateTime_Out'] = pd.to_datetime(df['DateTime_Out'])\n",
    "#Working with Dates https://towardsdatascience.com/working-with-datetime-in-pandas-dataframe-663f7af6c587"
   ]
  },
  {
   "cell_type": "code",
   "execution_count": 8,
   "metadata": {},
   "outputs": [],
   "source": [
    "df['year']= df['DateTime_Out'].dt.year\n",
    "df['month']= df['DateTime_Out'].dt.month"
   ]
  },
  {
   "cell_type": "code",
   "execution_count": 25,
   "metadata": {},
   "outputs": [],
   "source": [
    "subtotals_by_sport = df.groupby(['Key','year','month'])['Sum_Count'].sum().reset_index().assign(Monthly_Sum='Monthly_Sum')"
   ]
  },
  {
   "cell_type": "code",
   "execution_count": 26,
   "metadata": {},
   "outputs": [
    {
     "data": {
      "text/html": [
       "<div>\n",
       "<style scoped>\n",
       "    .dataframe tbody tr th:only-of-type {\n",
       "        vertical-align: middle;\n",
       "    }\n",
       "\n",
       "    .dataframe tbody tr th {\n",
       "        vertical-align: top;\n",
       "    }\n",
       "\n",
       "    .dataframe thead th {\n",
       "        text-align: right;\n",
       "    }\n",
       "</style>\n",
       "<table border=\"1\" class=\"dataframe\">\n",
       "  <thead>\n",
       "    <tr style=\"text-align: right;\">\n",
       "      <th></th>\n",
       "      <th>Key</th>\n",
       "      <th>year</th>\n",
       "      <th>month</th>\n",
       "      <th>Sum_Count</th>\n",
       "      <th>Monthly_Sum</th>\n",
       "    </tr>\n",
       "  </thead>\n",
       "  <tbody>\n",
       "    <tr>\n",
       "      <th>0</th>\n",
       "      <td>Caserne 03 Grid0_0</td>\n",
       "      <td>2015</td>\n",
       "      <td>1</td>\n",
       "      <td>13</td>\n",
       "      <td>Monthly_Sum</td>\n",
       "    </tr>\n",
       "    <tr>\n",
       "      <th>1</th>\n",
       "      <td>Caserne 03 Grid0_0</td>\n",
       "      <td>2015</td>\n",
       "      <td>2</td>\n",
       "      <td>8</td>\n",
       "      <td>Monthly_Sum</td>\n",
       "    </tr>\n",
       "    <tr>\n",
       "      <th>2</th>\n",
       "      <td>Caserne 03 Grid0_0</td>\n",
       "      <td>2015</td>\n",
       "      <td>3</td>\n",
       "      <td>11</td>\n",
       "      <td>Monthly_Sum</td>\n",
       "    </tr>\n",
       "    <tr>\n",
       "      <th>3</th>\n",
       "      <td>Caserne 03 Grid0_0</td>\n",
       "      <td>2015</td>\n",
       "      <td>4</td>\n",
       "      <td>21</td>\n",
       "      <td>Monthly_Sum</td>\n",
       "    </tr>\n",
       "    <tr>\n",
       "      <th>4</th>\n",
       "      <td>Caserne 03 Grid0_0</td>\n",
       "      <td>2015</td>\n",
       "      <td>5</td>\n",
       "      <td>10</td>\n",
       "      <td>Monthly_Sum</td>\n",
       "    </tr>\n",
       "    <tr>\n",
       "      <th>...</th>\n",
       "      <td>...</td>\n",
       "      <td>...</td>\n",
       "      <td>...</td>\n",
       "      <td>...</td>\n",
       "      <td>...</td>\n",
       "    </tr>\n",
       "    <tr>\n",
       "      <th>61595</th>\n",
       "      <td>caserne 47 Grid2_2</td>\n",
       "      <td>2022</td>\n",
       "      <td>1</td>\n",
       "      <td>1</td>\n",
       "      <td>Monthly_Sum</td>\n",
       "    </tr>\n",
       "    <tr>\n",
       "      <th>61596</th>\n",
       "      <td>caserne 47 Grid2_2</td>\n",
       "      <td>2022</td>\n",
       "      <td>2</td>\n",
       "      <td>2</td>\n",
       "      <td>Monthly_Sum</td>\n",
       "    </tr>\n",
       "    <tr>\n",
       "      <th>61597</th>\n",
       "      <td>caserne 47 Grid2_2</td>\n",
       "      <td>2022</td>\n",
       "      <td>4</td>\n",
       "      <td>5</td>\n",
       "      <td>Monthly_Sum</td>\n",
       "    </tr>\n",
       "    <tr>\n",
       "      <th>61598</th>\n",
       "      <td>caserne 47 Grid2_2</td>\n",
       "      <td>2022</td>\n",
       "      <td>5</td>\n",
       "      <td>1</td>\n",
       "      <td>Monthly_Sum</td>\n",
       "    </tr>\n",
       "    <tr>\n",
       "      <th>61599</th>\n",
       "      <td>caserne 47 Grid2_2</td>\n",
       "      <td>2022</td>\n",
       "      <td>6</td>\n",
       "      <td>1</td>\n",
       "      <td>Monthly_Sum</td>\n",
       "    </tr>\n",
       "  </tbody>\n",
       "</table>\n",
       "<p>61600 rows × 5 columns</p>\n",
       "</div>"
      ],
      "text/plain": [
       "                      Key  year  month  Sum_Count  Monthly_Sum\n",
       "0      Caserne 03 Grid0_0  2015      1         13  Monthly_Sum\n",
       "1      Caserne 03 Grid0_0  2015      2          8  Monthly_Sum\n",
       "2      Caserne 03 Grid0_0  2015      3         11  Monthly_Sum\n",
       "3      Caserne 03 Grid0_0  2015      4         21  Monthly_Sum\n",
       "4      Caserne 03 Grid0_0  2015      5         10  Monthly_Sum\n",
       "...                   ...   ...    ...        ...          ...\n",
       "61595  caserne 47 Grid2_2  2022      1          1  Monthly_Sum\n",
       "61596  caserne 47 Grid2_2  2022      2          2  Monthly_Sum\n",
       "61597  caserne 47 Grid2_2  2022      4          5  Monthly_Sum\n",
       "61598  caserne 47 Grid2_2  2022      5          1  Monthly_Sum\n",
       "61599  caserne 47 Grid2_2  2022      6          1  Monthly_Sum\n",
       "\n",
       "[61600 rows x 5 columns]"
      ]
     },
     "execution_count": 26,
     "metadata": {},
     "output_type": "execute_result"
    }
   ],
   "source": [
    "subtotals_by_sport"
   ]
  }
 ],
 "metadata": {
  "kernelspec": {
   "display_name": "Python 3.8.8 ('base')",
   "language": "python",
   "name": "python3"
  },
  "language_info": {
   "codemirror_mode": {
    "name": "ipython",
    "version": 3
   },
   "file_extension": ".py",
   "mimetype": "text/x-python",
   "name": "python",
   "nbconvert_exporter": "python",
   "pygments_lexer": "ipython3",
   "version": "3.8.8"
  },
  "orig_nbformat": 4,
  "vscode": {
   "interpreter": {
    "hash": "dd258e70a00b9d05b7368d5ae0e15e17aace735537f960715f93b931a4bb2d53"
   }
  }
 },
 "nbformat": 4,
 "nbformat_minor": 2
}
